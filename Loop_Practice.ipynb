{
 "cells": [
  {
   "cell_type": "code",
   "execution_count": 1,
   "id": "3259b583",
   "metadata": {},
   "outputs": [
    {
     "name": "stdout",
     "output_type": "stream",
     "text": [
      "X\n",
      "10\n",
      "8\n",
      "A\n",
      "8\n",
      "XYZ\n"
     ]
    }
   ],
   "source": [
    "# Q1) Print items of the list.\n",
    "\n",
    "l = ['X',10,8,'A',8,'XYZ']\n",
    "for i in l:\n",
    "    print(i)"
   ]
  },
  {
   "cell_type": "code",
   "execution_count": 35,
   "id": "8bc38b8a",
   "metadata": {},
   "outputs": [
    {
     "name": "stdout",
     "output_type": "stream",
     "text": [
      "1\n",
      "2\n",
      "3\n",
      "4\n",
      "5\n",
      "6\n",
      "7\n",
      "8\n",
      "9\n",
      "10\n"
     ]
    }
   ],
   "source": [
    "# Q2) Code to print first n natural number\n",
    "\n",
    "n= int(input('Provide nth natural number'))\n",
    "for i in range(1,n+1):\n",
    "    print(i)"
   ]
  },
  {
   "cell_type": "code",
   "execution_count": 54,
   "id": "cf7cfe06",
   "metadata": {},
   "outputs": [
    {
     "name": "stdout",
     "output_type": "stream",
     "text": [
      "Provide nth natural number10\n",
      "55\n"
     ]
    }
   ],
   "source": [
    "# Q3) Code to print sum of first n natural no.\n",
    "\n",
    "x =0\n",
    "n= int(input('Provide nth natural number'))\n",
    "for i in range(1,n+1):\n",
    "    x +=i\n",
    "print(x)"
   ]
  },
  {
   "cell_type": "code",
   "execution_count": 20,
   "id": "f2f444e6",
   "metadata": {},
   "outputs": [
    {
     "name": "stdout",
     "output_type": "stream",
     "text": [
      "Provide nos of rows6\n",
      "\n",
      " *\n",
      " * *\n",
      " * * *\n",
      " * * * *\n",
      " * * * * *\n",
      " * * * * * *\n"
     ]
    }
   ],
   "source": [
    "# Q4) Print ladder pattern from star .\n",
    "\n",
    "n = int(input('Provide nos of rows'))\n",
    "for i in range(n+1):\n",
    "    print(i * ' *')"
   ]
  },
  {
   "cell_type": "code",
   "execution_count": 5,
   "id": "a62482fb",
   "metadata": {},
   "outputs": [
    {
     "name": "stdout",
     "output_type": "stream",
     "text": [
      "Provide no of rows5\n",
      "                    \n",
      "         *          \n",
      "        *  *        \n",
      "      *  *  *       \n",
      "     *  *  *  *     \n",
      "   *  *  *  *  *    \n"
     ]
    }
   ],
   "source": [
    "# Q5) Print Mountain oattern from star.\n",
    "\n",
    "n = int(input('Provide no of rows'))\n",
    "for i in range(n+1):\n",
    "    print((i *' * ').center(20))"
   ]
  },
  {
   "cell_type": "code",
   "execution_count": 22,
   "id": "db2a99ee",
   "metadata": {},
   "outputs": [
    {
     "name": "stdout",
     "output_type": "stream",
     "text": [
      "         *          \n",
      "        *  *        \n",
      "      *  *  *       \n",
      "     *  *  *  *     \n",
      "   *  *  *  *  *    \n",
      "  *  *  *  *  *  *  \n",
      "   *  *  *  *  *    \n",
      "     *  *  *  *     \n",
      "      *  *  *       \n",
      "        *  *        \n",
      "         *          \n"
     ]
    }
   ],
   "source": [
    "# Q6) Print diamond shape from star .\n",
    "\n",
    "n = 5\n",
    "for i in range(n+1):\n",
    "    print(((i+1)*' * ').center(20))\n",
    "for i in range(n):\n",
    "    print(((n-i)*' * ').center(20))\n",
    "\n"
   ]
  },
  {
   "cell_type": "code",
   "execution_count": 32,
   "id": "4ed80c87",
   "metadata": {},
   "outputs": [
    {
     "name": "stdout",
     "output_type": "stream",
     "text": [
      "1  \n",
      "\n",
      "1  2  \n",
      "\n",
      "1  2  3  \n",
      "\n",
      "1  2  3  4  \n",
      "\n",
      "1  2  3  4  5  \n",
      "\n",
      "1  2  3  4  5  6  \n",
      "\n"
     ]
    }
   ],
   "source": [
    "# Q7) Code to print number with table of 1 in ladder form.\n",
    "\n",
    "n=6\n",
    "for i in range(1,n+1):\n",
    "    for j in range(1,i+1):\n",
    "        print(j , end='  ')\n",
    "    print('\\n')"
   ]
  },
  {
   "cell_type": "code",
   "execution_count": 21,
   "id": "a71d0074",
   "metadata": {},
   "outputs": [
    {
     "name": "stdout",
     "output_type": "stream",
     "text": [
      "Provide integer to find table8\n",
      "8  X  0 =  0\n",
      "8  X  1 =  8\n",
      "8  X  2 =  16\n",
      "8  X  3 =  24\n",
      "8  X  4 =  32\n",
      "8  X  5 =  40\n",
      "8  X  6 =  48\n",
      "8  X  7 =  56\n",
      "8  X  8 =  64\n",
      "8  X  9 =  72\n",
      "8  X  10 =  80\n"
     ]
    }
   ],
   "source": [
    "# Q8) Code to print table of 6.\n",
    "\n",
    "n = int(input('Provide integer to find table'))\n",
    "for i in range(11):\n",
    "    print( n,' X ',i,'= ',n*i )"
   ]
  },
  {
   "cell_type": "code",
   "execution_count": 16,
   "id": "668b8a2f",
   "metadata": {},
   "outputs": [
    {
     "name": "stdout",
     "output_type": "stream",
     "text": [
      "Even nos out of list are [10, 78, 86, 42, 154, 86, 32, 10, 24]\n",
      "Odd nos out of list are [5, 41, 9, 25, 59, 53, 47, 27]\n"
     ]
    }
   ],
   "source": [
    "# Q9) code to find out even or odd number out of list.\n",
    "\n",
    "even=[]\n",
    "odd=[]\n",
    "l =[10,5,78,41,9,86,42,154,86,32,10,24,25,59,53,47,27]\n",
    "for i in l:\n",
    "    if i%2 == 0:\n",
    "        even.append(i)\n",
    "    if i%2 != 0:\n",
    "        odd.append(i)\n",
    "print('Even nos out of list are',even)\n",
    "print('Odd nos out of list are',odd)"
   ]
  },
  {
   "cell_type": "code",
   "execution_count": 55,
   "id": "d85e4451",
   "metadata": {},
   "outputs": [
    {
     "name": "stdout",
     "output_type": "stream",
     "text": [
      "6\n"
     ]
    }
   ],
   "source": [
    "# Q10) Code to find count of number .\n",
    "\n",
    "n = 145326\n",
    "count = 0\n",
    "\n",
    "while n != 0:\n",
    "    n = n//10\n",
    "    count += 1\n",
    "print(count)    "
   ]
  },
  {
   "cell_type": "code",
   "execution_count": 63,
   "id": "b29c796c",
   "metadata": {},
   "outputs": [
    {
     "name": "stdout",
     "output_type": "stream",
     "text": [
      "[25, 9, 7, 5, 54, 10]\n"
     ]
    }
   ],
   "source": [
    "# Q11) Code to reverse a list using loop.\n",
    "\n",
    "l = [10,54,5,7,9,25]\n",
    "new_list = []\n",
    "l1 = reversed(l)\n",
    "for i in l1:\n",
    "    new_list.append(i)\n",
    "print(new_list)\n",
    "    "
   ]
  },
  {
   "cell_type": "code",
   "execution_count": 66,
   "id": "5049ffda",
   "metadata": {},
   "outputs": [
    {
     "name": "stdout",
     "output_type": "stream",
     "text": [
      "Provide the no of series to form fibonaci series10\n",
      "0\n",
      "1\n",
      "1\n",
      "2\n",
      "3\n",
      "5\n",
      "8\n",
      "13\n",
      "21\n",
      "34\n"
     ]
    }
   ],
   "source": [
    "# Q12) Code to print fibonaci series\n",
    "\n",
    "n = int(input('Provide the no of series to form fibonaci series'))\n",
    "num1 , num2 = 0,1\n",
    "for i in range(n):\n",
    "    print(num1)\n",
    "    num3 = num1 + num2    \n",
    "    num1 = num2\n",
    "    num2 = num3"
   ]
  },
  {
   "cell_type": "code",
   "execution_count": 72,
   "id": "f0b2c746",
   "metadata": {},
   "outputs": [
    {
     "name": "stdout",
     "output_type": "stream",
     "text": [
      "Provide no to find factorial :5\n",
      "Factorial of  5 is : 120\n"
     ]
    }
   ],
   "source": [
    "# Q13) Code to find factorial of n.\n",
    "\n",
    "x=1   \n",
    "n = int(input('Provide no to find factorial :'))\n",
    "for i in range(1,n+1):\n",
    "    x = x*i\n",
    "print('Factorial of ',n,'is :',x)"
   ]
  },
  {
   "cell_type": "code",
   "execution_count": 75,
   "id": "87f8e8cc",
   "metadata": {},
   "outputs": [
    {
     "name": "stdout",
     "output_type": "stream",
     "text": [
      "Provide no to reverse  :5478\n",
      "Revirsed number is : 8745\n"
     ]
    }
   ],
   "source": [
    "# Q14) Code to reverse a given number.\n",
    "\n",
    "n = int(input('Provide no to reverse  :'))\n",
    "rev_no = 0\n",
    "while n>0:\n",
    "    reminder = n%10\n",
    "    rev_no = (rev_no*10)+ reminder\n",
    "    n = n// 10\n",
    "print('Revirsed number is :',rev_no)"
   ]
  },
  {
   "cell_type": "code",
   "execution_count": 78,
   "id": "7fdb6f56",
   "metadata": {},
   "outputs": [
    {
     "name": "stdout",
     "output_type": "stream",
     "text": [
      "Provide the number :5\n",
      "Cube of  1 is : 1\n",
      "Cube of  2 is : 8\n",
      "Cube of  3 is : 27\n",
      "Cube of  4 is : 64\n",
      "Cube of  5 is : 125\n"
     ]
    }
   ],
   "source": [
    "# Q15) Code to find cube of all number till nth given number.\n",
    "\n",
    "n=int(input('Provide the number :'))\n",
    "for i in range(1,n+1):\n",
    "    print('Cube of ',i,'is :',i*i*i)\n",
    "\n"
   ]
  },
  {
   "cell_type": "code",
   "execution_count": 80,
   "id": "a0454659",
   "metadata": {},
   "outputs": [
    {
     "name": "stdout",
     "output_type": "stream",
     "text": [
      "A \n",
      "B H \n",
      "C I N \n",
      "D J O S \n",
      "E K P T W \n",
      "F L Q U X Z \n",
      "G M R V Y \n"
     ]
    }
   ],
   "source": [
    "# Q16) Code to print alphabets in ladder form.\n",
    "\n",
    "i=0\n",
    "while i<7:\n",
    "    l=7\n",
    "    k=i+65  \n",
    "    for j in range(i+1):\n",
    "        if chr(k).isalpha():\n",
    "            print(chr(k),end=\" \") \n",
    "            l-=1\n",
    "            k+=l     \n",
    "    i += 1\n",
    "    print()"
   ]
  },
  {
   "cell_type": "code",
   "execution_count": 1,
   "id": "69b6846e",
   "metadata": {
    "scrolled": true
   },
   "outputs": [
    {
     "name": "stdout",
     "output_type": "stream",
     "text": [
      "Provide the range :500\n",
      "Provide the divisor :5\n",
      "5\n",
      "10\n",
      "15\n",
      "20\n",
      "25\n",
      "30\n",
      "35\n",
      "40\n",
      "45\n",
      "50\n",
      "55\n",
      "60\n",
      "65\n",
      "70\n",
      "75\n",
      "80\n",
      "85\n",
      "90\n",
      "95\n",
      "100\n",
      "105\n",
      "110\n",
      "115\n",
      "120\n",
      "125\n",
      "130\n",
      "135\n",
      "140\n",
      "145\n",
      "150\n",
      "155\n",
      "160\n",
      "165\n",
      "170\n",
      "175\n",
      "180\n",
      "185\n",
      "190\n",
      "195\n",
      "200\n",
      "205\n",
      "210\n",
      "215\n",
      "220\n",
      "225\n",
      "230\n",
      "235\n",
      "240\n",
      "245\n",
      "250\n",
      "255\n",
      "260\n",
      "265\n",
      "270\n",
      "275\n",
      "280\n",
      "285\n",
      "290\n",
      "295\n",
      "300\n",
      "305\n",
      "310\n",
      "315\n",
      "320\n",
      "325\n",
      "330\n",
      "335\n",
      "340\n",
      "345\n",
      "350\n",
      "355\n",
      "360\n",
      "365\n",
      "370\n",
      "375\n",
      "380\n",
      "385\n",
      "390\n",
      "395\n",
      "400\n",
      "405\n",
      "410\n",
      "415\n",
      "420\n",
      "425\n",
      "430\n",
      "435\n",
      "440\n",
      "445\n",
      "450\n",
      "455\n",
      "460\n",
      "465\n",
      "470\n",
      "475\n",
      "480\n",
      "485\n",
      "490\n",
      "495\n"
     ]
    }
   ],
   "source": [
    "# Q17) Code to print no divisible by provided divisor within range.\n",
    "\n",
    "n=int(input('Provide the range :'))\n",
    "x=int(input('Provide the divisor :'))\n",
    "i=x-1\n",
    "while i<n:\n",
    "    if i%x == 0:\n",
    "        print(i)\n",
    "    i += 1"
   ]
  },
  {
   "cell_type": "code",
   "execution_count": 5,
   "id": "1dd40ce1",
   "metadata": {
    "scrolled": true
   },
   "outputs": [
    {
     "name": "stdout",
     "output_type": "stream",
     "text": [
      "Provide the sentence to find vovel :India, officially the Republic of India (Hindi: Bhārat Gaṇarājya),[25] is a country in South Asia. It is the seventh-largest country by area, the second-most populous country, and the most populous democracy in the world. Bounded by the Indian Ocean on the south, the Arabian Sea on the southwest, and the Bay of Bengal on the southeast, it shares land borders with Pakistan to the west;[f] China, Nepal, and Bhutan to the north; and Bangladesh and Myanmar to the east. In the Indian Ocean, India is in the vicinity of Sri Lanka and the Maldives; its Andaman and Nicobar Islands share a maritime border with Thailand, Myanmar, and Indonesia.\n",
      "i\n",
      "i\n",
      "a\n",
      "o\n",
      "i\n",
      "i\n",
      "a\n",
      "e\n",
      "e\n",
      "u\n",
      "i\n",
      "o\n",
      "i\n",
      "i\n",
      "a\n",
      "i\n",
      "i\n",
      "a\n",
      "a\n",
      "a\n",
      "a\n",
      "i\n",
      "a\n",
      "o\n",
      "u\n",
      "i\n",
      "o\n",
      "u\n",
      "a\n",
      "i\n",
      "a\n",
      "i\n",
      "i\n",
      "e\n",
      "e\n",
      "e\n",
      "a\n",
      "e\n",
      "o\n",
      "u\n",
      "a\n",
      "e\n",
      "a\n",
      "e\n",
      "e\n",
      "o\n",
      "o\n",
      "o\n",
      "u\n",
      "o\n",
      "u\n",
      "o\n",
      "u\n",
      "a\n",
      "e\n",
      "o\n",
      "o\n",
      "u\n",
      "o\n",
      "u\n",
      "e\n",
      "o\n",
      "a\n",
      "i\n",
      "e\n",
      "o\n",
      "o\n",
      "u\n",
      "e\n",
      "e\n",
      "i\n",
      "i\n",
      "a\n",
      "o\n",
      "e\n",
      "a\n",
      "o\n",
      "e\n",
      "o\n",
      "u\n",
      "e\n",
      "a\n",
      "a\n",
      "i\n",
      "a\n",
      "e\n",
      "a\n",
      "o\n",
      "e\n",
      "o\n",
      "u\n",
      "e\n",
      "a\n",
      "e\n",
      "a\n",
      "o\n",
      "e\n",
      "a\n",
      "o\n",
      "e\n",
      "o\n",
      "u\n",
      "e\n",
      "a\n",
      "i\n",
      "a\n",
      "e\n",
      "a\n",
      "o\n",
      "e\n",
      "i\n",
      "a\n",
      "i\n",
      "a\n",
      "o\n",
      "e\n",
      "e\n",
      "i\n",
      "a\n",
      "e\n",
      "a\n",
      "a\n",
      "u\n",
      "a\n",
      "o\n",
      "e\n",
      "o\n",
      "a\n",
      "a\n",
      "a\n",
      "e\n",
      "a\n",
      "a\n",
      "a\n",
      "o\n",
      "e\n",
      "e\n",
      "a\n",
      "i\n",
      "e\n",
      "i\n",
      "i\n",
      "a\n",
      "o\n",
      "e\n",
      "a\n",
      "i\n",
      "i\n",
      "a\n",
      "i\n",
      "i\n",
      "e\n",
      "i\n",
      "i\n",
      "i\n",
      "o\n",
      "i\n",
      "a\n",
      "a\n",
      "a\n",
      "e\n",
      "a\n",
      "i\n",
      "e\n",
      "i\n",
      "a\n",
      "a\n",
      "a\n",
      "a\n",
      "i\n",
      "o\n",
      "a\n",
      "i\n",
      "a\n",
      "a\n",
      "e\n",
      "a\n",
      "a\n",
      "i\n",
      "i\n",
      "e\n",
      "o\n",
      "e\n",
      "i\n",
      "a\n",
      "i\n",
      "a\n",
      "a\n",
      "a\n",
      "a\n",
      "i\n",
      "o\n",
      "e\n",
      "i\n",
      "a\n"
     ]
    }
   ],
   "source": [
    "# Q18) Code to find vovels from the sentence.\n",
    "\n",
    "s= input('Provide the sentence to find vovel :')\n",
    "\n",
    "i = 0 \n",
    "v = 'aeiou'\n",
    "s = s.lower()\n",
    "while i < len(s):\n",
    "    if s[i] in v :\n",
    "        print(s[i])\n",
    "    i = i+1"
   ]
  },
  {
   "cell_type": "code",
   "execution_count": 21,
   "id": "d3c94777",
   "metadata": {},
   "outputs": [
    {
     "name": "stdout",
     "output_type": "stream",
     "text": [
      "dict_keys(['Name', 'ID', 1245, 'X', 475])\n",
      "dict_values([('Raj', 'Alok', 'Alok', 'Akash', 'Mukul'), (145, 554, 658, 203, 5402), 5412, 45189, 'XYZ'])\n",
      "\n",
      "\n",
      "[1245, 475, 145, 554, 658, 203, 5402, 5412, 45189] ['Name', 'ID', 'X', 'Raj', 'Alok', 'Alok', 'Akash', 'Mukul', 'XYZ', 'X', 'Y', 'Z']\n"
     ]
    }
   ],
   "source": [
    "# Q19) Code to print key and values separately from dictionary and seperate the integer and string out of it.\n",
    "\n",
    "d={'Name':('Raj','Alok','Alok','Akash','Mukul'),'ID':(145,554,658,203,5402),1245:5412,'X':45189,475:'XYZ'}\n",
    "\n",
    "print(d.keys())\n",
    "print(d.values())\n",
    "print('\\n')\n",
    "l_int=[]\n",
    "l_str=[]\n",
    "for i in d.keys():\n",
    "    if type(i) == int :\n",
    "        l_int.append(i)\n",
    "for i in d.keys():\n",
    "    if type(i)!= int:\n",
    "        l_str.append(i)\n",
    "for i in d.values():\n",
    "    if type(i) == int:\n",
    "        l_int.append(i)\n",
    "    if type(i) == str:\n",
    "        l_str.append(i)\n",
    "    if type(i) != int:\n",
    "        for j in i:\n",
    "            if type(j)== int:\n",
    "                l_int.append(j)\n",
    "            if type(j)== str:\n",
    "                l_str.append(j)\n",
    "print( l_int,l_str)\n",
    "        \n"
   ]
  },
  {
   "cell_type": "code",
   "execution_count": 24,
   "id": "42a73075",
   "metadata": {},
   "outputs": [
    {
     "name": "stdout",
     "output_type": "stream",
     "text": [
      "  *       *   \n",
      "  *       *   \n",
      "  * *   * *   \n",
      "  *   *   *   \n",
      "  *       *   \n",
      "  *       *   \n",
      "  *       *   \n",
      "\n"
     ]
    }
   ],
   "source": [
    "# Q20) Code to print M Alphabet from star(*).\n",
    "\n",
    "result_str=\"\";    \n",
    "for i in range(0,7):    \n",
    "    for j in range(0,7):     \n",
    "        if (j == 1 or j == 5 or (i == 2 and (j == 2 or j == 4)) or (i == 3 and j == 3)):  \n",
    "            result_str=result_str+\"* \"    \n",
    "        else:      \n",
    "            result_str=result_str+\"  \"    \n",
    "    result_str=result_str+\"\\n\"    \n",
    "print(result_str);"
   ]
  },
  {
   "cell_type": "code",
   "execution_count": null,
   "id": "3f41b9ac",
   "metadata": {},
   "outputs": [],
   "source": []
  }
 ],
 "metadata": {
  "kernelspec": {
   "display_name": "Python 3 (ipykernel)",
   "language": "python",
   "name": "python3"
  },
  "language_info": {
   "codemirror_mode": {
    "name": "ipython",
    "version": 3
   },
   "file_extension": ".py",
   "mimetype": "text/x-python",
   "name": "python",
   "nbconvert_exporter": "python",
   "pygments_lexer": "ipython3",
   "version": "3.9.13"
  }
 },
 "nbformat": 4,
 "nbformat_minor": 5
}
