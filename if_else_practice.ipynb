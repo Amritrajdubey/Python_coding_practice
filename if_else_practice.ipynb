{
 "cells": [
  {
   "cell_type": "code",
   "execution_count": 1,
   "id": "1a2e4836",
   "metadata": {},
   "outputs": [
    {
     "name": "stdout",
     "output_type": "stream",
     "text": [
      "Provide your marks 86\n",
      "You got B grade\n"
     ]
    }
   ],
   "source": [
    "# Code to find Grade as per Marks \n",
    "grade= int(input('Provide your marks '))\n",
    "if grade > 90:\n",
    "    print('You got A grade')\n",
    "if grade > 80 and grade <= 90 :\n",
    "    print('You got B grade')\n",
    "elif grade >= 60 and grade <= 80 :\n",
    "    print('You got C grade')\n",
    "else :\n",
    "    print('you got D grade')"
   ]
  },
  {
   "cell_type": "code",
   "execution_count": 22,
   "id": "ab60f77e",
   "metadata": {},
   "outputs": [
    {
     "name": "stdout",
     "output_type": "stream",
     "text": [
      "provide price of bike 90000\n",
      "You have to pay tax of 10% : 9000.0\n"
     ]
    }
   ],
   "source": [
    "# Code to find Tax for different bike\n",
    "price = int(input('provide price of bike '))\n",
    "if price > 100000 :\n",
    "    print('you have to pay tax of 15% ',':',.15*price)\n",
    "if price > 50000 and price <=100000 :\n",
    "    print('You have to pay tax of 10%',':',.10*price)\n",
    "if price <= 50000 :\n",
    "    print('You have to pay tax of 5%',':',.05*price)\n"
   ]
  },
  {
   "cell_type": "code",
   "execution_count": 25,
   "id": "36716ba8",
   "metadata": {},
   "outputs": [
    {
     "name": "stdout",
     "output_type": "stream",
     "text": [
      "Provide the year to check  2001\n",
      "This yr is not leap yr\n"
     ]
    }
   ],
   "source": [
    "# Code to check leap yr\n",
    "yr = int(input('Provide the year to check  '))\n",
    "if yr % 4 ==0:\n",
    "    print('The yr',yr,'is a leap yr')\n",
    "else:\n",
    "    print('This yr is not leap yr')"
   ]
  },
  {
   "cell_type": "code",
   "execution_count": 34,
   "id": "4bbe38f6",
   "metadata": {},
   "outputs": [
    {
     "name": "stdout",
     "output_type": "stream",
     "text": [
      "Provide the no to check for week day  : 7\n",
      "Its Sunday\n"
     ]
    }
   ],
   "source": [
    "# Code to check Weekdays as per number\n",
    "num = int(input('Provide the no to check for week day  : '))\n",
    "\n",
    "if num in range(1,8):\n",
    "    if num == 1:\n",
    "        print('Its Sunday')\n",
    "    if num == 2:\n",
    "        print('its Monday')\n",
    "    if num == 3:\n",
    "        print('Its wednusday')\n",
    "    if num == 4:\n",
    "        print('Its thrusday')\n",
    "    if num == 5 :\n",
    "        print('Its friday')\n",
    "    if num == 6 :\n",
    "        print('Its saturday')\n",
    "    if num == 7 :\n",
    "        print('Its Sunday')\n",
    "else:\n",
    "    print('Provide num b/w 1 to 7')"
   ]
  },
  {
   "cell_type": "code",
   "execution_count": 7,
   "id": "93963b06",
   "metadata": {},
   "outputs": [
    {
     "name": "stdout",
     "output_type": "stream",
     "text": [
      "Provide ones place value of number  :27\n",
      "No is divisible by 3\n"
     ]
    }
   ],
   "source": [
    "# Code to check number is divisible by 3\n",
    "x= int(input('Provide ones place value of number  : '))\n",
    "if x % 3 == 0:\n",
    "    print('No is divisible by 3')\n",
    "else :\n",
    "    print('no is not divisible by 3')"
   ]
  },
  {
   "cell_type": "code",
   "execution_count": 9,
   "id": "e91d2c40",
   "metadata": {},
   "outputs": [
    {
     "name": "stdout",
     "output_type": "stream",
     "text": [
      "Provide your age  : 15\n",
      "You are not eligible for voting \n"
     ]
    }
   ],
   "source": [
    "# Code to check Voting eligibility\n",
    "age = int(input('Provide your age  : '))\n",
    "if age > 18 :\n",
    "    print('You are eligible for voting ')\n",
    "else:\n",
    "    print('You are not eligible for voting ')"
   ]
  },
  {
   "cell_type": "code",
   "execution_count": 23,
   "id": "c10f2aa2",
   "metadata": {},
   "outputs": [
    {
     "name": "stdout",
     "output_type": "stream",
     "text": [
      "Provide city name out of Agra , Delhi or Jaipur to know monument name  : Delhi\n",
      "Red fort\n"
     ]
    }
   ],
   "source": [
    "# Code to check famous monuments in Agra , Delhi or Jaipur\n",
    "city_name = input('Provide city name out of Agra , Delhi or Jaipur to know monument name  : ')\n",
    "if city_name == 'Agra' :\n",
    "    print('Taj Mahal')\n",
    "if city_name == 'Delhi' :\n",
    "    print('Red fort')\n",
    "if city_name == 'Jaipur':\n",
    "    print('Jal Mahal')"
   ]
  },
  {
   "cell_type": "code",
   "execution_count": 25,
   "id": "48094625",
   "metadata": {},
   "outputs": [
    {
     "name": "stdout",
     "output_type": "stream",
     "text": [
      "Provide 1st number  : 56\n",
      "Provide 2nd number  : 2\n",
      "Largest number is  56\n"
     ]
    }
   ],
   "source": [
    "# Code to find greatest no of two \n",
    "num1 = int(input('Provide 1st number  : '))\n",
    "num2 = int(input('Provide 2nd number  : '))\n",
    "if num1 > num2 :\n",
    "    print('Largest number is ',num1 )\n",
    "else :\n",
    "    print('Largest number is ',num2 )"
   ]
  },
  {
   "cell_type": "code",
   "execution_count": 47,
   "id": "a82c5040",
   "metadata": {},
   "outputs": [
    {
     "name": "stdout",
     "output_type": "stream",
     "text": [
      "Provide 1st number  : 89\n",
      "Provide 2nd number  : 56\n",
      "Provide 3rd number  : 45\n",
      "Largest number is  89\n"
     ]
    }
   ],
   "source": [
    "# Code to find largest number of 3 numbers\n",
    "num1 = int(input('Provide 1st number  : '))\n",
    "num2 = int(input('Provide 2nd number  : '))\n",
    "num3 = int(input('Provide 3rd number  : '))\n",
    "if num1 > num2 :\n",
    "    if num1 > num3 :\n",
    "        print('Largest number is ',num1 )\n",
    "if num2 > num1 :\n",
    "    if num2 > num3 :\n",
    "        print('Largest number is ',num2 )\n",
    "if num3 > num1 :\n",
    "    if num3 > num2 :\n",
    "        print('Largest number is ',num3)"
   ]
  },
  {
   "cell_type": "code",
   "execution_count": 10,
   "id": "d89e8a95",
   "metadata": {},
   "outputs": [
    {
     "name": "stdout",
     "output_type": "stream",
     "text": [
      "Provide the number  : 89\n",
      "Number 89  is prime \n"
     ]
    }
   ],
   "source": [
    "# Code to find number is prime or not\n",
    "num = int(input('Provide the number  : '))\n",
    "k = 0\n",
    "if num == 0 or num == 1:\n",
    "    k = 1\n",
    "for x in range ( 2 , num ):\n",
    "    if num % x == 0:\n",
    "        k = 1\n",
    "if k == 1:\n",
    "    print('number is not prime ')\n",
    "else :\n",
    "    print('Number',num,' is prime ')"
   ]
  },
  {
   "cell_type": "code",
   "execution_count": 69,
   "id": "20308f8b",
   "metadata": {},
   "outputs": [
    {
     "name": "stdout",
     "output_type": "stream",
     "text": [
      "provide the range 50\n",
      "0\n",
      "1\n",
      "2\n",
      "3\n",
      "5\n",
      "7\n",
      "11\n",
      "13\n",
      "17\n",
      "19\n",
      "23\n",
      "29\n",
      "31\n",
      "37\n",
      "41\n",
      "43\n",
      "47\n"
     ]
    }
   ],
   "source": [
    "# Code to find prime no in specified range\n",
    "n = int(input('provide the range '))\n",
    "for x in range(n):\n",
    "    for i in range(2,x):\n",
    "        if x % i == 0:\n",
    "            break\n",
    "    else:\n",
    "        print(x)"
   ]
  },
  {
   "cell_type": "code",
   "execution_count": 20,
   "id": "0b4c7c47",
   "metadata": {},
   "outputs": [
    {
     "name": "stdout",
     "output_type": "stream",
     "text": [
      "provide the sentence for vovel check : This is my code to check vovels\n",
      "i\n",
      "i\n",
      "o\n",
      "e\n",
      "o\n",
      "e\n",
      "o\n",
      "e\n"
     ]
    }
   ],
   "source": [
    "# Code to find vovels in sentence\n",
    "x = input('provide the sentence for vovel check : ')\n",
    "i = 0\n",
    "x = x.lower()\n",
    "v = 'aeiou'\n",
    "if v in 'aeiou':\n",
    "    while i < len(x):\n",
    "        if x[i] in v :\n",
    "            print(x[i])\n",
    "        i = i+1\n",
    "else :\n",
    "    print('no vovel in sentence')"
   ]
  },
  {
   "cell_type": "code",
   "execution_count": 22,
   "id": "2cc447bd",
   "metadata": {},
   "outputs": [
    {
     "name": "stdout",
     "output_type": "stream",
     "text": [
      "Provide the no of days worked 100\n",
      "Provide the no of days absent 80\n",
      "Attendence is less than 75 % so not allowed in exam \n"
     ]
    }
   ],
   "source": [
    "# Code to check eligibiity to attend Exam\n",
    "wrk_dy = int(input('Provide the no of days worked '))\n",
    "abs_dy = int(input('Provide the no of days absent '))\n",
    "pre_percnt = ((wrk_dy - abs_dy)/wrk_dy)* 100 \n",
    "if pre_percnt > 75 :\n",
    "    print('will attend exam')\n",
    "else :\n",
    "    print('Attendence is less than 75 % so not allowed in exam ')"
   ]
  },
  {
   "cell_type": "code",
   "execution_count": 31,
   "id": "c853825d",
   "metadata": {},
   "outputs": [
    {
     "name": "stdout",
     "output_type": "stream",
     "text": [
      "Provide your grade  : 65\n",
      "C Grade \n"
     ]
    }
   ],
   "source": [
    "# Code to get Grade as per marks\n",
    "Grade = int(input('Provide your grade  : '))\n",
    "if Grade > 90 :\n",
    "    print('A+ Grade')\n",
    "if Grade <90 and Grade >= 80 :\n",
    "    print('A Grade ')\n",
    "if Grade <80 and Grade >= 70 :\n",
    "    print('B Grade ')\n",
    "if Grade < 70 and Grade >= 60 :\n",
    "    print('C Grade ')\n",
    "if Grade < 60 and Grade >= 50 :\n",
    "    print('D Grade ')\n",
    "if Grade < 50 :\n",
    "    print('E Grade ')"
   ]
  },
  {
   "cell_type": "code",
   "execution_count": 39,
   "id": "23a5040b",
   "metadata": {},
   "outputs": [
    {
     "name": "stdout",
     "output_type": "stream",
     "text": [
      "length of one side of Triangle is  : 10\n",
      "length of 2nd side of Triangle is  : 10\n",
      "length of 3rd side of Triangle is  : 12\n",
      "It's isosceles Triangle \n"
     ]
    }
   ],
   "source": [
    "# Code to find out type of triangle\n",
    "a = int(input('length of one side of Triangle is  : '))\n",
    "b = int(input('length of 2nd side of Triangle is  : '))\n",
    "c = int(input('length of 3rd side of Triangle is  : '))\n",
    "if a == b == c :\n",
    "    print(\"It's Equilateral triangle \")\n",
    "if a == b != c or b == c != a or c == a != b :\n",
    "    print(\"It's isosceles Triangle \")\n",
    "if a != b != c :\n",
    "    print(\"It's a scale Triangle \")"
   ]
  },
  {
   "cell_type": "code",
   "execution_count": 46,
   "id": "3b45f605",
   "metadata": {},
   "outputs": [
    {
     "name": "stdout",
     "output_type": "stream",
     "text": [
      "1st number is : 20\n",
      "2nd number is : 50\n",
      "Provide the operator : -\n",
      "Subtraction of number is  -30\n"
     ]
    }
   ],
   "source": [
    "# Code to find result as per given operator\n",
    "num1 = int(input('1st number is : '))\n",
    "num2 = int(input('2nd number is : '))\n",
    "op = input('Provide the operator : ')\n",
    "if op == '+' :\n",
    "    print('Sum of number is ',num1 + num2 )\n",
    "if op == '-':\n",
    "    print('Subtraction of number is ', num1 - num2 )   \n",
    "if op =='*' :\n",
    "    print('Multiplication of numeber is ', num1 * num2 )\n",
    "if op == '/':\n",
    "    print('Division of number is ', num1/num2)"
   ]
  },
  {
   "cell_type": "code",
   "execution_count": 51,
   "id": "84c47fae",
   "metadata": {},
   "outputs": [
    {
     "name": "stdout",
     "output_type": "stream",
     "text": [
      "Provide your age  : 28\n",
      "Provide your sex  : male\n",
      " Your daily wage is 700 \n"
     ]
    }
   ],
   "source": [
    "# Code to find daily wage as per age group of Male/People\n",
    "age = int(input('Provide your age  : '))\n",
    "sex = input('Provide your sex  : ')\n",
    "sex = sex.upper()\n",
    "if age > 18 and age < 30 :\n",
    "    if sex == 'MALE' :\n",
    "        print(' Your daily wage is 700 ')\n",
    "    if sex == 'FEMALE' :\n",
    "        print('Your daily wage is 750 ')\n",
    "if age >= 30 and age <= 40 :\n",
    "    if sex == 'MALE' :\n",
    "        print('Your daily wage is 800 ')\n",
    "    if sex == 'FEMALE' :\n",
    "        print('Your daily wage is 850 ')"
   ]
  },
  {
   "cell_type": "code",
   "execution_count": 68,
   "id": "cee4f7f8",
   "metadata": {},
   "outputs": [
    {
     "name": "stdout",
     "output_type": "stream",
     "text": [
      "Provide the reading of unit of electricity  : 250\n",
      "Your electric bill amount is  300\n"
     ]
    }
   ],
   "source": [
    "# Code to find Electric bill\n",
    "elc_unit = int(input('Provide the reading of unit of electricity  : '))\n",
    "if elc_unit <= 100 :\n",
    "    print ('Your electric bill is waived off')\n",
    "if elc_unit >100 and elc_unit <= 300 :\n",
    "    cal_unit = elc_unit - 100\n",
    "    cost1 = cal_unit * 2 \n",
    "    print('Your electric bill amount is ',cost1)\n",
    "if elc_unit > 300 :\n",
    "    cal_unit1 = elc_unit - 300\n",
    "    cal_unit2 = elc_unit - cal_unit1 - 100\n",
    "    cost2 = cal_unit1 * 5 + cal_unit2 * 2\n",
    "    print('Your electric bill amount is ', cost2)"
   ]
  },
  {
   "cell_type": "code",
   "execution_count": 72,
   "id": "4a5efd01",
   "metadata": {},
   "outputs": [
    {
     "name": "stdout",
     "output_type": "stream",
     "text": [
      "Total number of days spent in library  : 15\n",
      "Total library charge is  120 rupees\n"
     ]
    }
   ],
   "source": [
    "# Code to find Library charge\n",
    "days = int(input('Total number of days spent in library  : '))\n",
    "if days <= 5 :\n",
    "    print('Total library charge is ', days * 3,'rupees')\n",
    "if days > 5 and days <=10 :\n",
    "    print('Total library charge is ',days * 5,'rupees')\n",
    "if days > 10 and days <= 20 :\n",
    "    print('Total library charge is ',days * 8,'rupees')\n",
    "if days > 20 :\n",
    "    print('Total library charge is ',days * 10,'rupees')\n",
    "    "
   ]
  },
  {
   "cell_type": "code",
   "execution_count": null,
   "id": "a9e910c1",
   "metadata": {},
   "outputs": [],
   "source": []
  }
 ],
 "metadata": {
  "kernelspec": {
   "display_name": "Python 3 (ipykernel)",
   "language": "python",
   "name": "python3"
  },
  "language_info": {
   "codemirror_mode": {
    "name": "ipython",
    "version": 3
   },
   "file_extension": ".py",
   "mimetype": "text/x-python",
   "name": "python",
   "nbconvert_exporter": "python",
   "pygments_lexer": "ipython3",
   "version": "3.9.7"
  }
 },
 "nbformat": 4,
 "nbformat_minor": 5
}
