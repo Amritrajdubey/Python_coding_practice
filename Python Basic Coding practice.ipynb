{
 "cells": [
  {
   "cell_type": "markdown",
   "id": "9cafad27",
   "metadata": {},
   "source": [
    "#### 1) Code to find anagram status of 2 string"
   ]
  },
  {
   "cell_type": "code",
   "execution_count": null,
   "id": "dd09a222",
   "metadata": {},
   "outputs": [],
   "source": [
    "# elbow and below\n",
    "def anagram(str1,str2):\n",
    "    if sorted(str1) == sorted(str2):\n",
    "        return True\n",
    "    else:\n",
    "        return False"
   ]
  },
  {
   "cell_type": "code",
   "execution_count": 3,
   "id": "9ed72da1",
   "metadata": {},
   "outputs": [
    {
     "data": {
      "text/plain": [
       "True"
      ]
     },
     "execution_count": 3,
     "metadata": {},
     "output_type": "execute_result"
    }
   ],
   "source": [
    "anagram('elbow' , 'below')"
   ]
  },
  {
   "cell_type": "markdown",
   "id": "1d7675e5",
   "metadata": {},
   "source": [
    "#### 2) Find maximum no out of list if no is repeated ignore that no"
   ]
  },
  {
   "cell_type": "code",
   "execution_count": 38,
   "id": "b5993d82",
   "metadata": {},
   "outputs": [
    {
     "name": "stdout",
     "output_type": "stream",
     "text": [
      "8\n"
     ]
    }
   ],
   "source": [
    "l = [4,5,10,10,8,9,9]\n",
    "l1 = set()\n",
    "for i in l:\n",
    "    if l.count(i) == 1:\n",
    "        l1.add(i)\n",
    "print(max(l1))"
   ]
  },
  {
   "cell_type": "code",
   "execution_count": 45,
   "id": "a929985e",
   "metadata": {},
   "outputs": [
    {
     "name": "stdout",
     "output_type": "stream",
     "text": [
      "5\n"
     ]
    }
   ],
   "source": [
    "l = [2,4,5,8,9,7,4,7,9,8]\n",
    "l1=[]\n",
    "for i in l:\n",
    "    if l.count(i) == 1:\n",
    "        l1.append(i)\n",
    "print(max(l1))"
   ]
  },
  {
   "cell_type": "markdown",
   "id": "f89d8bc4",
   "metadata": {},
   "source": [
    "#### 3) Code to print Poem in prescibed format"
   ]
  },
  {
   "cell_type": "code",
   "execution_count": 52,
   "id": "7fab6723",
   "metadata": {},
   "outputs": [
    {
     "name": "stdout",
     "output_type": "stream",
     "text": [
      "Twinkle, twinkle, little star,\n",
      "        How I wonder what you are!\n",
      "               Up above the world so high,\n",
      "               Like a diamond in the sky.\n",
      "Twinkle, twinkle, little star,\n",
      "        How I wonder what you are!\n"
     ]
    }
   ],
   "source": [
    "s = 'Twinkle, twinkle, little star, How I wonder what you are! Up above the world so high, Like a diamond in the sky. Twinkle, twinkle, little star,How I wonder what you are'\n",
    "print(f\"{'Twinkle, twinkle, little star,'}\\n{' '*8}{'How I wonder what you are!'}\\n{' '*15}{'Up above the world so high,'}\\n{' '*15}{'Like a diamond in the sky.'}\")\n",
    "print(f\"{'Twinkle, twinkle, little star,'}\\n{' '*8}{'How I wonder what you are!'}\")"
   ]
  },
  {
   "cell_type": "markdown",
   "id": "240edd12",
   "metadata": {},
   "source": [
    "#### 4) Code to find python version"
   ]
  },
  {
   "cell_type": "code",
   "execution_count": 53,
   "id": "f0cc71d1",
   "metadata": {},
   "outputs": [
    {
     "data": {
      "text/plain": [
       "'3.9.13 (main, Aug 25 2022, 23:51:50) [MSC v.1916 64 bit (AMD64)]'"
      ]
     },
     "execution_count": 53,
     "metadata": {},
     "output_type": "execute_result"
    }
   ],
   "source": [
    "import sys\n",
    "sys.version"
   ]
  },
  {
   "cell_type": "markdown",
   "id": "3bf8ecf3",
   "metadata": {},
   "source": [
    "#### 5) Display current date and time"
   ]
  },
  {
   "cell_type": "code",
   "execution_count": 58,
   "id": "d02acbf6",
   "metadata": {},
   "outputs": [
    {
     "data": {
      "text/plain": [
       "'2023-08-11 23:41:08'"
      ]
     },
     "execution_count": 58,
     "metadata": {},
     "output_type": "execute_result"
    }
   ],
   "source": [
    "import datetime\n",
    "(datetime.datetime.now()).strftime(\"%Y-%m-%d %H:%M:%S\")"
   ]
  },
  {
   "cell_type": "markdown",
   "id": "4c8f1c4a",
   "metadata": {},
   "source": [
    "#### 6) Calculate area of circle"
   ]
  },
  {
   "cell_type": "code",
   "execution_count": 65,
   "id": "1d6e9468",
   "metadata": {},
   "outputs": [],
   "source": [
    "def circle_area(r):\n",
    "    return (22/7)*(r**2)"
   ]
  },
  {
   "cell_type": "code",
   "execution_count": 66,
   "id": "f8f0fd23",
   "metadata": {},
   "outputs": [
    {
     "data": {
      "text/plain": [
       "3.8028571428571434"
      ]
     },
     "execution_count": 66,
     "metadata": {},
     "output_type": "execute_result"
    }
   ],
   "source": [
    "circle_area(1.1)"
   ]
  },
  {
   "cell_type": "markdown",
   "id": "ecbb500f",
   "metadata": {},
   "source": [
    "#### 7) Reverse Full name"
   ]
  },
  {
   "cell_type": "code",
   "execution_count": 69,
   "id": "83ff9076",
   "metadata": {},
   "outputs": [],
   "source": [
    "def reverse(first_name , last_name):\n",
    "    full_name = first_name + ' '+last_name\n",
    "    reverse = full_name[::-1]\n",
    "    return reverse"
   ]
  },
  {
   "cell_type": "code",
   "execution_count": 70,
   "id": "207fc533",
   "metadata": {},
   "outputs": [
    {
     "data": {
      "text/plain": [
       "'jaR tirmA'"
      ]
     },
     "execution_count": 70,
     "metadata": {},
     "output_type": "execute_result"
    }
   ],
   "source": [
    "reverse('Amrit','Raj')"
   ]
  },
  {
   "cell_type": "code",
   "execution_count": 82,
   "id": "24421fc4",
   "metadata": {},
   "outputs": [
    {
     "data": {
      "text/plain": [
       "'jaR tirmA'"
      ]
     },
     "execution_count": 82,
     "metadata": {},
     "output_type": "execute_result"
    }
   ],
   "source": [
    "first = 'Amrit'\n",
    "last = 'Raj'\n",
    "full = first +' '+last\n",
    "l =[]\n",
    "for i in range(len(full)):\n",
    "    l.append(full[len(full)-i-1])\n",
    "''.join(l)"
   ]
  },
  {
   "cell_type": "code",
   "execution_count": 1,
   "id": "72a57886",
   "metadata": {},
   "outputs": [
    {
     "data": {
      "text/plain": [
       "'jaR tirmA'"
      ]
     },
     "execution_count": 1,
     "metadata": {},
     "output_type": "execute_result"
    }
   ],
   "source": [
    "full = 'Amrit Raj'\n",
    "l=[]\n",
    "for i in range(len(full)):\n",
    "    l.append(full[len(full)-i-1])\n",
    "''.join(l)"
   ]
  },
  {
   "cell_type": "markdown",
   "id": "0110a9fc",
   "metadata": {},
   "source": [
    "#### 8) Comma seprated Numbers to list and tuple"
   ]
  },
  {
   "cell_type": "code",
   "execution_count": 3,
   "id": "973ce7c0",
   "metadata": {},
   "outputs": [
    {
     "name": "stdout",
     "output_type": "stream",
     "text": [
      "Provided no by commma seperated :4,80,10,9\n",
      "['4', '80', '10', '9']\n",
      "('4', '80', '10', '9')\n"
     ]
    }
   ],
   "source": [
    "numbers = input('Provided no by commma seperated :')\n",
    "l = numbers.split(',')\n",
    "t = tuple(l)\n",
    "print(f\"{l}\\n{t}\")"
   ]
  },
  {
   "cell_type": "code",
   "execution_count": 18,
   "id": "71ec1f2e",
   "metadata": {},
   "outputs": [
    {
     "name": "stdout",
     "output_type": "stream",
     "text": [
      "Provide the nos :10,8,9,4,6\n",
      "[10, 8, 9, 4, 6]\n",
      "(10, 8, 9, 4, 6)\n"
     ]
    }
   ],
   "source": [
    "numbers = input('Provide the nos :')\n",
    "l = [int(i) for i in numbers.split(',')]\n",
    "t = tuple(l)\n",
    "print(f\"{l}\\n{t}\")"
   ]
  },
  {
   "cell_type": "markdown",
   "id": "74545bf0",
   "metadata": {},
   "source": [
    "#### 9) Find out the extension of the file"
   ]
  },
  {
   "cell_type": "code",
   "execution_count": 31,
   "id": "a186d121",
   "metadata": {},
   "outputs": [
    {
     "name": "stdout",
     "output_type": "stream",
     "text": [
      "xyz.python\n",
      "python\n"
     ]
    }
   ],
   "source": [
    "file_name = input()\n",
    "file_name = file_name.split('.')\n",
    "print(file_name[len(file_name)-1])"
   ]
  },
  {
   "cell_type": "markdown",
   "id": "35160848",
   "metadata": {},
   "source": [
    "#### 10) Write a Python program to display the first and last colors from the following list.\n",
    "color_list = [\"Red\",\"Green\",\"White\" ,\"Black\"]"
   ]
  },
  {
   "cell_type": "code",
   "execution_count": 34,
   "id": "dc6d4cfc",
   "metadata": {},
   "outputs": [
    {
     "data": {
      "text/plain": [
       "['Red', 'Black']"
      ]
     },
     "execution_count": 34,
     "metadata": {},
     "output_type": "execute_result"
    }
   ],
   "source": [
    "color_list = ['Red','Green','White','Black']\n",
    "l = [ ]\n",
    "l.append(color_list[0])\n",
    "l.append(color_list[-1])\n",
    "l"
   ]
  },
  {
   "cell_type": "markdown",
   "id": "32ca35b9",
   "metadata": {},
   "source": [
    "#### 11) Write a Python program to display the examination schedule. (extract the date from exam_st_date).\n",
    "##### exam_st_date = (11, 12, 2014)\n",
    "##### Sample Output : The examination will start from : 11 / 12 / 2014"
   ]
  },
  {
   "cell_type": "code",
   "execution_count": 40,
   "id": "1196f62b",
   "metadata": {},
   "outputs": [
    {
     "name": "stdout",
     "output_type": "stream",
     "text": [
      "The examination will start from :11/12/2014\n"
     ]
    }
   ],
   "source": [
    "exam_date = (11,12,2014)\n",
    "day , month , year = exam_date\n",
    "print(f\"The examination will start from :{day}/{month}/{year}\")"
   ]
  },
  {
   "cell_type": "code",
   "execution_count": 43,
   "id": "80e178c1",
   "metadata": {},
   "outputs": [
    {
     "name": "stdout",
     "output_type": "stream",
     "text": [
      "The examnation will start from :11/12/2014\n"
     ]
    }
   ],
   "source": [
    "exam_date = (11,12,2014)\n",
    "l = list(exam_date)\n",
    "i = l[0]\n",
    "j = l[1]\n",
    "k = l[2]\n",
    "print(f\"The examnation will start from :{i}/{j}/{k}\")"
   ]
  },
  {
   "cell_type": "markdown",
   "id": "02720e63",
   "metadata": {},
   "source": [
    "#### 12) Write a Python program that accepts an integer (n) and computes the value of n+nn+nnn.\n",
    "##### Sample value of n is 5\n",
    "##### Expected Result : 615"
   ]
  },
  {
   "cell_type": "code",
   "execution_count": 52,
   "id": "47999ee5",
   "metadata": {},
   "outputs": [
    {
     "data": {
      "text/plain": [
       "615"
      ]
     },
     "execution_count": 52,
     "metadata": {},
     "output_type": "execute_result"
    }
   ],
   "source": [
    "def number(n):\n",
    "    n = n\n",
    "    nn = int(str(n)+str(n))\n",
    "    nnn = int(str(n)+str(n)+str(n))\n",
    "    return n + nn + nnn\n",
    "number(5)"
   ]
  },
  {
   "cell_type": "markdown",
   "id": "7723f3b4",
   "metadata": {},
   "source": [
    "#### 13) Write a Python program to print the documents (syntax, description etc.) of Python built-in function(s).\n",
    "##### Sample function : abs()\n",
    "##### Expected Result :\n",
    "##### abs(number) -> number\n",
    "##### Return the absolute value of the argument."
   ]
  },
  {
   "cell_type": "code",
   "execution_count": 54,
   "id": "aac8eb77",
   "metadata": {},
   "outputs": [
    {
     "name": "stdout",
     "output_type": "stream",
     "text": [
      "Help on built-in function abs in module builtins:\n",
      "\n",
      "abs(x, /)\n",
      "    Return the absolute value of the argument.\n",
      "\n"
     ]
    }
   ],
   "source": [
    "sample_function = abs\n",
    "help(sample_function)"
   ]
  },
  {
   "cell_type": "markdown",
   "id": "7018c78f",
   "metadata": {},
   "source": [
    "#### 14) Write a Python program that prints the calendar for a given month and year.\n",
    "##### Note : Use 'calendar' module."
   ]
  },
  {
   "cell_type": "code",
   "execution_count": 61,
   "id": "098955c5",
   "metadata": {},
   "outputs": [
    {
     "name": "stdout",
     "output_type": "stream",
     "text": [
      "Year :2023\n",
      "Month :12\n",
      "   December 2023\n",
      "Su Mo Tu We Th Fr Sa\n",
      "                1  2\n",
      " 3  4  5  6  7  8  9\n",
      "10 11 12 13 14 15 16\n",
      "17 18 19 20 21 22 23\n",
      "24 25 26 27 28 29 30\n",
      "31\n",
      "\n"
     ]
    }
   ],
   "source": [
    "import calendar\n",
    "year = int(input('Year :'))\n",
    "month = int(input('Month :'))\n",
    "cal = calendar.TextCalendar(calendar.SUNDAY)\n",
    "print(cal.formatmonth(year,month))"
   ]
  },
  {
   "cell_type": "markdown",
   "id": "fd9aa543",
   "metadata": {},
   "source": [
    "#### 15) Write a Python program to calculate the number of days between two dates.\n",
    "##### Sample dates : (2014, 7, 2), (2014, 7, 11)\n",
    "##### Expected output : 9 days"
   ]
  },
  {
   "cell_type": "code",
   "execution_count": 63,
   "id": "3103ddd9",
   "metadata": {},
   "outputs": [
    {
     "data": {
      "text/plain": [
       "9"
      ]
     },
     "execution_count": 63,
     "metadata": {},
     "output_type": "execute_result"
    }
   ],
   "source": [
    "dt1 = (2014,7,2)\n",
    "dt2 = (2014,7,11)\n",
    "\n",
    "y1,m1,d1 = dt1 \n",
    "y2,m2,d2 = dt2\n",
    "Date_diff = d2-d1\n",
    "Date_diff"
   ]
  },
  {
   "cell_type": "markdown",
   "id": "10c05896",
   "metadata": {},
   "source": [
    "#### 16) Code to find volume of sphere of radius r"
   ]
  },
  {
   "cell_type": "code",
   "execution_count": 66,
   "id": "703dea3a",
   "metadata": {},
   "outputs": [],
   "source": [
    "def sphere_volume(r):\n",
    "    return (4/3)*(22/7)*(r*r*r)"
   ]
  },
  {
   "cell_type": "code",
   "execution_count": 67,
   "id": "4346f6fa",
   "metadata": {},
   "outputs": [
    {
     "data": {
      "text/plain": [
       "905.142857142857"
      ]
     },
     "execution_count": 67,
     "metadata": {},
     "output_type": "execute_result"
    }
   ],
   "source": [
    "sphere_volume(6)"
   ]
  },
  {
   "cell_type": "markdown",
   "id": "c3b52833",
   "metadata": {},
   "source": [
    "#### 17) Write a Python program to calculate the difference between a given number and 17. If the number is greater than 17, return twice the absolute difference."
   ]
  },
  {
   "cell_type": "code",
   "execution_count": 74,
   "id": "b95515f9",
   "metadata": {},
   "outputs": [],
   "source": [
    "def diff(n):\n",
    "    if n>17:\n",
    "        return 2*(abs(17-n))\n",
    "    else:\n",
    "        return 17 -n"
   ]
  },
  {
   "cell_type": "code",
   "execution_count": 75,
   "id": "ff5bef60",
   "metadata": {},
   "outputs": [
    {
     "data": {
      "text/plain": [
       "6"
      ]
     },
     "execution_count": 75,
     "metadata": {},
     "output_type": "execute_result"
    }
   ],
   "source": [
    "diff(20)"
   ]
  },
  {
   "cell_type": "markdown",
   "id": "843c955c",
   "metadata": {},
   "source": [
    "#### 18) Write a Python program to calculate the sum of three given numbers. If the values are equal, return three times their sum."
   ]
  },
  {
   "cell_type": "code",
   "execution_count": 81,
   "id": "06daf093",
   "metadata": {},
   "outputs": [],
   "source": [
    "def sum(x,y,z):\n",
    "    if x == y == z:\n",
    "        total = x+y+z\n",
    "        return 3*total\n",
    "    else:\n",
    "        return x+y+z"
   ]
  },
  {
   "cell_type": "code",
   "execution_count": 82,
   "id": "828dfc27",
   "metadata": {},
   "outputs": [
    {
     "data": {
      "text/plain": [
       "16"
      ]
     },
     "execution_count": 82,
     "metadata": {},
     "output_type": "execute_result"
    }
   ],
   "source": [
    "sum(5,6,5)"
   ]
  },
  {
   "cell_type": "markdown",
   "id": "f228934d",
   "metadata": {},
   "source": [
    "#### 19) Write a Python program to get a newly-generated string from a given string where \"Is\" has been added to the front. Return the string unchanged if the given string already begins with \"Is\"."
   ]
  },
  {
   "cell_type": "code",
   "execution_count": 90,
   "id": "55058954",
   "metadata": {},
   "outputs": [],
   "source": [
    "def add_is(string):\n",
    "    if string[:2] == 'Is':\n",
    "        return string\n",
    "    else:\n",
    "        return 'Is ' + string\n",
    "    "
   ]
  },
  {
   "cell_type": "code",
   "execution_count": 91,
   "id": "47a0e99d",
   "metadata": {},
   "outputs": [
    {
     "data": {
      "text/plain": [
       "'Is My name is Amrit Raj'"
      ]
     },
     "execution_count": 91,
     "metadata": {},
     "output_type": "execute_result"
    }
   ],
   "source": [
    "add_is('Is My name is Amrit Raj')"
   ]
  },
  {
   "cell_type": "markdown",
   "id": "242e7356",
   "metadata": {},
   "source": [
    "#### 20) Write a Python program that returns a string that is n (non-negative integer) copies of a given string."
   ]
  },
  {
   "cell_type": "code",
   "execution_count": 92,
   "id": "7ea0ae88",
   "metadata": {},
   "outputs": [],
   "source": [
    "def copies_str(str1,n):\n",
    "    return str1*n"
   ]
  },
  {
   "cell_type": "code",
   "execution_count": 94,
   "id": "d74af73e",
   "metadata": {},
   "outputs": [
    {
     "data": {
      "text/plain": [
       "'This This This This This '"
      ]
     },
     "execution_count": 94,
     "metadata": {},
     "output_type": "execute_result"
    }
   ],
   "source": [
    "copies_str('This ',5)"
   ]
  },
  {
   "cell_type": "markdown",
   "id": "3343fc08",
   "metadata": {},
   "source": [
    "####  21) Write a Python program that determines whether a given number (accepted from the user) is even or odd, and prints an appropriate message to the user."
   ]
  },
  {
   "cell_type": "code",
   "execution_count": 99,
   "id": "78cf27f0",
   "metadata": {},
   "outputs": [],
   "source": [
    "def even_odd(n):\n",
    "    print('Given no is')\n",
    "    if n%2 == 0:\n",
    "        print('Even')\n",
    "    else:\n",
    "        print('Odd')"
   ]
  },
  {
   "cell_type": "code",
   "execution_count": 100,
   "id": "706a4e6c",
   "metadata": {},
   "outputs": [
    {
     "name": "stdout",
     "output_type": "stream",
     "text": [
      "Given no is\n",
      "Odd\n"
     ]
    }
   ],
   "source": [
    "even_odd(21)"
   ]
  },
  {
   "cell_type": "markdown",
   "id": "721c18d7",
   "metadata": {},
   "source": [
    "#### 22) Write a Python program to count the number 4 in a given list."
   ]
  },
  {
   "cell_type": "code",
   "execution_count": 101,
   "id": "b460ba8a",
   "metadata": {},
   "outputs": [],
   "source": [
    "def count_4(lists):\n",
    "    count = 0\n",
    "    for i in lists:\n",
    "        if i == 4:\n",
    "            count += 1\n",
    "    return count"
   ]
  },
  {
   "cell_type": "code",
   "execution_count": 103,
   "id": "264dd6a7",
   "metadata": {},
   "outputs": [
    {
     "data": {
      "text/plain": [
       "5"
      ]
     },
     "execution_count": 103,
     "metadata": {},
     "output_type": "execute_result"
    }
   ],
   "source": [
    "count_4([5,10,4,8,4,20,8,4,10,4,50,4])"
   ]
  },
  {
   "cell_type": "markdown",
   "id": "7bd77e45",
   "metadata": {},
   "source": [
    "#### 23) Write a Python program to get n (non-negative integer) copies of the first 2 characters of a given string. Return n copies of the whole string if the length is less than 2."
   ]
  },
  {
   "cell_type": "code",
   "execution_count": 108,
   "id": "f601d8c1",
   "metadata": {},
   "outputs": [],
   "source": [
    "def n_copies(str1,n):\n",
    "    if len(str1) < 2:\n",
    "        return str1 * n\n",
    "    else:\n",
    "        return str1[:2] * n"
   ]
  },
  {
   "cell_type": "code",
   "execution_count": 109,
   "id": "693321dc",
   "metadata": {},
   "outputs": [
    {
     "data": {
      "text/plain": [
       "'ThThThThThTh'"
      ]
     },
     "execution_count": 109,
     "metadata": {},
     "output_type": "execute_result"
    }
   ],
   "source": [
    "n_copies('This',6)"
   ]
  },
  {
   "cell_type": "markdown",
   "id": "fc17a086",
   "metadata": {},
   "source": [
    "#### 24) Write a Python program to test whether a passed letter is a vowel or not."
   ]
  },
  {
   "cell_type": "code",
   "execution_count": 110,
   "id": "7476e962",
   "metadata": {},
   "outputs": [],
   "source": [
    "def is_vovel(x):\n",
    "    x = x.lower()\n",
    "    if x in 'aeiou':\n",
    "        return True\n",
    "    else:\n",
    "        return False"
   ]
  },
  {
   "cell_type": "code",
   "execution_count": 113,
   "id": "a629fe3a",
   "metadata": {},
   "outputs": [
    {
     "data": {
      "text/plain": [
       "False"
      ]
     },
     "execution_count": 113,
     "metadata": {},
     "output_type": "execute_result"
    }
   ],
   "source": [
    "is_vovel('X')"
   ]
  },
  {
   "cell_type": "markdown",
   "id": "bfaabee1",
   "metadata": {},
   "source": [
    "####  25) Write a Python program that checks whether a specified value is contained within a group of values.\n",
    "##### Test Data :\n",
    "##### 3 -> [1, 5, 8, 3] : True\n",
    "##### -1 -> [1, 5, 8, 3] : False"
   ]
  },
  {
   "cell_type": "code",
   "execution_count": 114,
   "id": "e159d094",
   "metadata": {},
   "outputs": [],
   "source": [
    "def check_value(lists,n):\n",
    "    if n in lists:\n",
    "        return True\n",
    "    else:\n",
    "        return False"
   ]
  },
  {
   "cell_type": "code",
   "execution_count": 116,
   "id": "9999ee01",
   "metadata": {},
   "outputs": [
    {
     "data": {
      "text/plain": [
       "False"
      ]
     },
     "execution_count": 116,
     "metadata": {},
     "output_type": "execute_result"
    }
   ],
   "source": [
    "check_value([2,10,8,9],-8)"
   ]
  },
  {
   "cell_type": "markdown",
   "id": "5c1664c9",
   "metadata": {},
   "source": [
    "#### 26) Write a Python program to create a histogram from a given list of integers."
   ]
  },
  {
   "cell_type": "code",
   "execution_count": 119,
   "id": "3a8a0203",
   "metadata": {},
   "outputs": [],
   "source": [
    "def histogram(n):\n",
    "    for i in range(1,n+1):\n",
    "        print('* '*i)"
   ]
  },
  {
   "cell_type": "code",
   "execution_count": 120,
   "id": "17174077",
   "metadata": {},
   "outputs": [
    {
     "name": "stdout",
     "output_type": "stream",
     "text": [
      "* \n",
      "* * \n",
      "* * * \n",
      "* * * * \n",
      "* * * * * \n"
     ]
    }
   ],
   "source": [
    "histogram(5)"
   ]
  },
  {
   "cell_type": "markdown",
   "id": "b50d7e5f",
   "metadata": {},
   "source": [
    "#### 27) Write python code to create Pyramid from given list of integers"
   ]
  },
  {
   "cell_type": "code",
   "execution_count": 6,
   "id": "6a19f137",
   "metadata": {},
   "outputs": [],
   "source": [
    "def pyramid(n):\n",
    "    for i in range(1,n+1):\n",
    "        print(('* '*i).center(15))"
   ]
  },
  {
   "cell_type": "code",
   "execution_count": 7,
   "id": "4c6dd5cd",
   "metadata": {},
   "outputs": [
    {
     "name": "stdout",
     "output_type": "stream",
     "text": [
      "       *       \n",
      "      * *      \n",
      "     * * *     \n",
      "    * * * *    \n",
      "   * * * * *   \n",
      "  * * * * * *  \n",
      " * * * * * * * \n",
      "* * * * * * * * \n"
     ]
    }
   ],
   "source": [
    "pyramid(8)"
   ]
  },
  {
   "cell_type": "markdown",
   "id": "c7d3881a",
   "metadata": {},
   "source": [
    "#### 28) Python code to print diamond shape."
   ]
  },
  {
   "cell_type": "code",
   "execution_count": 8,
   "id": "04991c2a",
   "metadata": {},
   "outputs": [],
   "source": [
    "def diamond(n):\n",
    "    for i in range(1,n+1):\n",
    "        print(('* '*i).center(15))\n",
    "    for i in range(1,n+1):\n",
    "        print(('* '*(n-i)).center(15))"
   ]
  },
  {
   "cell_type": "code",
   "execution_count": 9,
   "id": "8f2141e0",
   "metadata": {},
   "outputs": [
    {
     "name": "stdout",
     "output_type": "stream",
     "text": [
      "       *       \n",
      "      * *      \n",
      "     * * *     \n",
      "    * * * *    \n",
      "   * * * * *   \n",
      "  * * * * * *  \n",
      " * * * * * * * \n",
      "* * * * * * * * \n",
      " * * * * * * * \n",
      "  * * * * * *  \n",
      "   * * * * *   \n",
      "    * * * *    \n",
      "     * * *     \n",
      "      * *      \n",
      "       *       \n",
      "               \n"
     ]
    }
   ],
   "source": [
    "diamond(8)"
   ]
  },
  {
   "cell_type": "markdown",
   "id": "e7c39162",
   "metadata": {},
   "source": [
    "#### 29) Write a Python program that concatenates all elements in a list into a string and returns it."
   ]
  },
  {
   "cell_type": "code",
   "execution_count": 141,
   "id": "2fb396ab",
   "metadata": {},
   "outputs": [
    {
     "name": "stdout",
     "output_type": "stream",
     "text": [
      "Provide space seperated value10 8 7 5 10 9\n",
      "10875109\n"
     ]
    }
   ],
   "source": [
    "def element_to_str(lists):\n",
    "    lists = lists.split()\n",
    "    print(''.join(lists))\n",
    "\n",
    "lists = input('Provide space seperated value')\n",
    "element_to_str(lists)"
   ]
  },
  {
   "cell_type": "markdown",
   "id": "ea59cd81",
   "metadata": {},
   "source": [
    "#### 30) Write a Python program to print all even numbers from a given list of numbers in the same order and stop printing any after 237 in the sequence.\n",
    "##### Sample numbers list :\n",
    "\n",
    "##### numbers = [    \n",
    "    386, 462, 47, 418, 907, 344, 236, 375, 823, 566, 597, 978, 328, 615, 953, 345, \n",
    "    399, 162, 758, 219, 918, 237, 412, 566, 826, 248, 866, 950, 626, 949, 687, 217, \n",
    "    815, 67, 104, 58, 512, 24, 892, 894, 767, 553, 81, 379, 843, 831, 445, 742, 717, \n",
    "    958,743, 527\n",
    "    ]"
   ]
  },
  {
   "cell_type": "code",
   "execution_count": 20,
   "id": "4af5c7c4",
   "metadata": {},
   "outputs": [],
   "source": [
    "def even_no_upto_n(lists , n):\n",
    "    for i in lists:\n",
    "        if i != n and i % 2 == 0:\n",
    "            print(i)\n",
    "        elif i == n:\n",
    "            print(n)\n",
    "            break"
   ]
  },
  {
   "cell_type": "code",
   "execution_count": 21,
   "id": "99c82b13",
   "metadata": {},
   "outputs": [
    {
     "name": "stdout",
     "output_type": "stream",
     "text": [
      "386\n",
      "462\n",
      "418\n",
      "344\n",
      "236\n",
      "566\n",
      "978\n",
      "328\n",
      "162\n",
      "758\n",
      "918\n",
      "237\n"
     ]
    }
   ],
   "source": [
    "numbers = [ 386, 462, 47, 418, 907, 344, 236, 375, 823, 566, 597, 978, 328, 615, 953, 345, 399, 162, 758, 219, 918, 237,\n",
    "           412, 566, 826,248, 866, 950, 626, 949, 687, 217, 815, 67, 104, 58, 512, 24, 892, 894, 767, 553, 81, 379, 843, \n",
    "           831, 445, 742, 717,958,743, 527 ]\n",
    "even_no_upto_n(numbers,237)"
   ]
  },
  {
   "cell_type": "markdown",
   "id": "9516f833",
   "metadata": {},
   "source": [
    "#### 30) Write a Python program that prints out all colors from color_list_1 that are not present in color_list_2.\n",
    "##### Test Data :\n",
    "##### color_list_1 = set([\"White\", \"Black\", \"Red\"])\n",
    "##### color_list_2 = set([\"Red\", \"Green\"])\n",
    "##### Expected Output :\n",
    "##### {'Black', 'White'}"
   ]
  },
  {
   "cell_type": "code",
   "execution_count": 29,
   "id": "6cc12531",
   "metadata": {},
   "outputs": [],
   "source": [
    "def missing_color(color_list_1,color_list_2):\n",
    "    missing_color = []\n",
    "    for i in color_list_1:    \n",
    "        if i not in color_list_2:\n",
    "            missing_color.append(i)\n",
    "    print(set(missing_color))"
   ]
  },
  {
   "cell_type": "code",
   "execution_count": 31,
   "id": "d55712bc",
   "metadata": {},
   "outputs": [
    {
     "name": "stdout",
     "output_type": "stream",
     "text": [
      "{'White', 'Black'}\n"
     ]
    }
   ],
   "source": [
    "color_list_1 = set([\"White\", \"Black\", \"Red\"])\n",
    "color_list_2 = set([\"Red\", \"Green\"])\n",
    "missing_color(color_list_1 ,color_list_2)"
   ]
  },
  {
   "cell_type": "markdown",
   "id": "7f2fe367",
   "metadata": {},
   "source": [
    "#### 31) Write a Python program that will accept the base and height of a triangle and compute its area."
   ]
  },
  {
   "cell_type": "code",
   "execution_count": 32,
   "id": "f74da92f",
   "metadata": {},
   "outputs": [],
   "source": [
    "def triangle_area(h,b):\n",
    "    return .5 * b*h"
   ]
  },
  {
   "cell_type": "code",
   "execution_count": 33,
   "id": "2819fef3",
   "metadata": {},
   "outputs": [
    {
     "data": {
      "text/plain": [
       "52.5"
      ]
     },
     "execution_count": 33,
     "metadata": {},
     "output_type": "execute_result"
    }
   ],
   "source": [
    "triangle_area(15,7)"
   ]
  },
  {
   "cell_type": "markdown",
   "id": "036a5987",
   "metadata": {},
   "source": [
    "#### 32) Write a Python program that computes the greatest common divisor (GCD) of two positive integers."
   ]
  },
  {
   "cell_type": "code",
   "execution_count": 11,
   "id": "ad4c1a36",
   "metadata": {},
   "outputs": [],
   "source": [
    "def common_divisor(m,n):\n",
    "    l = [m,n]\n",
    "    l1 = []\n",
    "    smaller = min(l)\n",
    "    for i in range(1,smaller+1):\n",
    "        if n%i == 0 and m%i == 0:\n",
    "            l1.append(i)\n",
    "    print(max(l1))  "
   ]
  },
  {
   "cell_type": "code",
   "execution_count": 15,
   "id": "9f875d03",
   "metadata": {},
   "outputs": [
    {
     "name": "stdout",
     "output_type": "stream",
     "text": [
      "25\n"
     ]
    }
   ],
   "source": [
    "common_divisor(25,50)"
   ]
  },
  {
   "cell_type": "code",
   "execution_count": 32,
   "id": "8145bbb7",
   "metadata": {},
   "outputs": [],
   "source": [
    "def gcd(m,n):\n",
    "    while n:\n",
    "        m,n = n , m % n\n",
    "    return m"
   ]
  },
  {
   "cell_type": "code",
   "execution_count": 35,
   "id": "91575c48",
   "metadata": {},
   "outputs": [
    {
     "data": {
      "text/plain": [
       "12"
      ]
     },
     "execution_count": 35,
     "metadata": {},
     "output_type": "execute_result"
    }
   ],
   "source": [
    "gcd(12,24)"
   ]
  },
  {
   "cell_type": "markdown",
   "id": "5f92fe6b",
   "metadata": {},
   "source": [
    "#### 33) Write a Python program to find the least common multiple (LCM) of two positive integers."
   ]
  },
  {
   "cell_type": "code",
   "execution_count": 36,
   "id": "67bd7d7a",
   "metadata": {},
   "outputs": [],
   "source": [
    "def gcd(a, b):\n",
    "    while b:\n",
    "        a, b = b, a % b\n",
    "    return a\n",
    "def LCM (a,b):\n",
    "    return a*b // gcd(a,b)"
   ]
  },
  {
   "cell_type": "code",
   "execution_count": 37,
   "id": "29e2ce54",
   "metadata": {},
   "outputs": [
    {
     "data": {
      "text/plain": [
       "60"
      ]
     },
     "execution_count": 37,
     "metadata": {},
     "output_type": "execute_result"
    }
   ],
   "source": [
    "LCM(12,3A0)"
   ]
  },
  {
   "cell_type": "markdown",
   "id": "04ee4d5b",
   "metadata": {},
   "source": [
    "#### 34) Write a Python program to sum three given integers. However, if two values are equal, the sum will be zero."
   ]
  },
  {
   "cell_type": "code",
   "execution_count": 38,
   "id": "963658c2",
   "metadata": {},
   "outputs": [],
   "source": [
    "def sum_3_no(a,b,c):\n",
    "    l = [a,b,c]\n",
    "    s = set(l)\n",
    "    if len(l) != len(s):\n",
    "        return 0\n",
    "    else:\n",
    "        return sum(l)"
   ]
  },
  {
   "cell_type": "code",
   "execution_count": 40,
   "id": "7031495c",
   "metadata": {},
   "outputs": [
    {
     "data": {
      "text/plain": [
       "0"
      ]
     },
     "execution_count": 40,
     "metadata": {},
     "output_type": "execute_result"
    }
   ],
   "source": [
    "sum_3_no(5,5,6)"
   ]
  },
  {
   "cell_type": "markdown",
   "id": "d6fcf378",
   "metadata": {},
   "source": [
    "#### 35) Write a Python program to sum two given integers. However, if the sum is between 15 and 20 it will return 20."
   ]
  },
  {
   "cell_type": "code",
   "execution_count": 45,
   "id": "ddfa4767",
   "metadata": {},
   "outputs": [],
   "source": [
    "def sum_2_no(a,b):\n",
    "    if a+b < 20 and a+b > 15:\n",
    "        return 20\n",
    "    else:\n",
    "        return a+b"
   ]
  },
  {
   "cell_type": "code",
   "execution_count": 46,
   "id": "915980cc",
   "metadata": {},
   "outputs": [
    {
     "data": {
      "text/plain": [
       "89"
      ]
     },
     "execution_count": 46,
     "metadata": {},
     "output_type": "execute_result"
    }
   ],
   "source": [
    "sum_2_no(8,81)"
   ]
  },
  {
   "cell_type": "markdown",
   "id": "daf6b1fe",
   "metadata": {},
   "source": [
    "#### 36) Write a Python program that returns true if the two given integer values are equal or their sum or difference is 5."
   ]
  },
  {
   "cell_type": "code",
   "execution_count": 49,
   "id": "b9e59b90",
   "metadata": {},
   "outputs": [],
   "source": [
    "def equal_no(a,b):\n",
    "    if a == b or a+b == 5 or a-b ==5 :\n",
    "        return True\n",
    "    else:\n",
    "        return False"
   ]
  },
  {
   "cell_type": "code",
   "execution_count": 53,
   "id": "a67ced0e",
   "metadata": {},
   "outputs": [
    {
     "data": {
      "text/plain": [
       "False"
      ]
     },
     "execution_count": 53,
     "metadata": {},
     "output_type": "execute_result"
    }
   ],
   "source": [
    "equal_no(3,4)"
   ]
  },
  {
   "cell_type": "markdown",
   "id": "72847f94",
   "metadata": {},
   "source": [
    "#### 37) Write a Python program to add two objects if both objects are integers."
   ]
  },
  {
   "cell_type": "code",
   "execution_count": 56,
   "id": "ec49091f",
   "metadata": {},
   "outputs": [],
   "source": [
    "def add_int_values(a,b):\n",
    "    if type(a) == int and type(b) == int:\n",
    "        return a+b\n",
    "    else:\n",
    "        print('Provide both integer value')"
   ]
  },
  {
   "cell_type": "code",
   "execution_count": 57,
   "id": "629891b1",
   "metadata": {},
   "outputs": [
    {
     "name": "stdout",
     "output_type": "stream",
     "text": [
      "Provide both integer value\n"
     ]
    }
   ],
   "source": [
    "add_int_values(5,'8')"
   ]
  },
  {
   "cell_type": "markdown",
   "id": "959fe208",
   "metadata": {},
   "source": [
    "#### 38) Write a Python program that displays your name, age, and address on three different lines."
   ]
  },
  {
   "cell_type": "code",
   "execution_count": 58,
   "id": "da5847ca",
   "metadata": {},
   "outputs": [],
   "source": [
    "def Per_info(Name,Age,Address):\n",
    "    print(f\"My name is {Name}\\nI'm {Age} yrs Old.\\nI live at {Address}\")"
   ]
  },
  {
   "cell_type": "code",
   "execution_count": 59,
   "id": "90af6772",
   "metadata": {},
   "outputs": [
    {
     "name": "stdout",
     "output_type": "stream",
     "text": [
      "My name is Amrit Raj\n",
      "I'm 25 yrs Old.\n",
      "I live at Mayur Vihar ph-1 , 110091\n"
     ]
    }
   ],
   "source": [
    "Per_info('Amrit Raj',25,'Mayur Vihar ph-1 , 110091')"
   ]
  },
  {
   "cell_type": "markdown",
   "id": "dcba598a",
   "metadata": {},
   "source": [
    "#### 39) Write a Python program to solve (x + y) * (x + y).\n",
    "##### Test Data : x = 4, y = 3\n",
    "##### Expected Output : (4 + 3) ^ 2) = 49"
   ]
  },
  {
   "cell_type": "code",
   "execution_count": 60,
   "id": "420944d8",
   "metadata": {},
   "outputs": [],
   "source": [
    "def add_sq(x,y):\n",
    "    return (x+y)**2"
   ]
  },
  {
   "cell_type": "code",
   "execution_count": 61,
   "id": "91b7ac2f",
   "metadata": {},
   "outputs": [
    {
     "data": {
      "text/plain": [
       "49"
      ]
     },
     "execution_count": 61,
     "metadata": {},
     "output_type": "execute_result"
    }
   ],
   "source": [
    "add_sq(4,3)"
   ]
  },
  {
   "cell_type": "markdown",
   "id": "2e4e3276",
   "metadata": {},
   "source": [
    "#### 40) Write a Python program to compute the future value of a specified principal amount, rate of interest, and number of years.\n",
    "##### Test Data : amt = 10000, int = 3.5, years = 7\n",
    "##### Expected Output : 12722.79"
   ]
  },
  {
   "cell_type": "code",
   "execution_count": 66,
   "id": "8fb3ffa2",
   "metadata": {},
   "outputs": [],
   "source": [
    "def Amount(p,r,n):\n",
    "    return p * (1+r/100)**n"
   ]
  },
  {
   "cell_type": "code",
   "execution_count": 67,
   "id": "f278bdb9",
   "metadata": {},
   "outputs": [
    {
     "data": {
      "text/plain": [
       "12722.792627665729"
      ]
     },
     "execution_count": 67,
     "metadata": {},
     "output_type": "execute_result"
    }
   ],
   "source": [
    "Amount(10000,3.5,7)"
   ]
  },
  {
   "cell_type": "markdown",
   "id": "03ecebe0",
   "metadata": {},
   "source": [
    "#### 41) Write a Python program to calculate the distance between the points (x1, y1) and (x2, y2)."
   ]
  },
  {
   "cell_type": "code",
   "execution_count": 71,
   "id": "49074eb9",
   "metadata": {},
   "outputs": [],
   "source": [
    "def distance(x1,y1,x2,y2):\n",
    "    return ((x2-x1)**2 + (y2-y1)**2)**(1/2)"
   ]
  },
  {
   "cell_type": "code",
   "execution_count": 72,
   "id": "e7ac4fcd",
   "metadata": {},
   "outputs": [
    {
     "data": {
      "text/plain": [
       "5.656854249492381"
      ]
     },
     "execution_count": 72,
     "metadata": {},
     "output_type": "execute_result"
    }
   ],
   "source": [
    "distance(5,5,1,1)"
   ]
  },
  {
   "cell_type": "markdown",
   "id": "42908a1d",
   "metadata": {},
   "source": [
    "#### 42) Write a Python program to check whether a file exists."
   ]
  },
  {
   "cell_type": "code",
   "execution_count": 73,
   "id": "38369000",
   "metadata": {},
   "outputs": [],
   "source": [
    "def file_path(Path):\n",
    "    import os\n",
    "    if os.path.exists(Path):\n",
    "        print('File exist')\n",
    "    else:\n",
    "        print('No file exist')"
   ]
  },
  {
   "cell_type": "code",
   "execution_count": 74,
   "id": "08ee46c2",
   "metadata": {},
   "outputs": [
    {
     "name": "stdout",
     "output_type": "stream",
     "text": [
      "File exist\n"
     ]
    }
   ],
   "source": [
    "file_path('Black Friday.html')"
   ]
  },
  {
   "cell_type": "markdown",
   "id": "a827622e",
   "metadata": {},
   "source": [
    "#### 43) Write a Python program to determine if a Python shell is executing in 32bit or 64bit mode on OS."
   ]
  },
  {
   "cell_type": "code",
   "execution_count": 77,
   "id": "ae8b08ff",
   "metadata": {},
   "outputs": [
    {
     "data": {
      "text/plain": [
       "'64bit'"
      ]
     },
     "execution_count": 77,
     "metadata": {},
     "output_type": "execute_result"
    }
   ],
   "source": [
    "import platform\n",
    "version = platform.architecture()[0]\n",
    "version"
   ]
  },
  {
   "cell_type": "markdown",
   "id": "3690a7a9",
   "metadata": {},
   "source": [
    "#### 44) Write a Python program to get OS name, platform and release information."
   ]
  },
  {
   "cell_type": "code",
   "execution_count": 80,
   "id": "1878cdfa",
   "metadata": {},
   "outputs": [
    {
     "name": "stdout",
     "output_type": "stream",
     "text": [
      "Os platform :Windows\n",
      "Platform name :Windows-10-10.0.19045-SP0\n",
      "Release info :10\n"
     ]
    }
   ],
   "source": [
    "import platform\n",
    "\n",
    "print(f\"Os platform :{platform.system()}\\nPlatform name :{platform.platform()}\\nRelease info :{platform.release()}\")"
   ]
  },
  {
   "cell_type": "markdown",
   "id": "b29033eb",
   "metadata": {},
   "source": [
    "#### 45) Write a Python program to locate Python site packages."
   ]
  },
  {
   "cell_type": "code",
   "execution_count": 81,
   "id": "1ffb0a3f",
   "metadata": {},
   "outputs": [
    {
     "data": {
      "text/plain": [
       "['C:\\\\Users\\\\vampi\\\\anaconda3',\n",
       " 'C:\\\\Users\\\\vampi\\\\anaconda3\\\\lib\\\\site-packages']"
      ]
     },
     "execution_count": 81,
     "metadata": {},
     "output_type": "execute_result"
    }
   ],
   "source": [
    "import site\n",
    "\n",
    "site.getsitepackages()"
   ]
  },
  {
   "cell_type": "markdown",
   "id": "31f1f743",
   "metadata": {},
   "source": [
    "#### 46) Write a Python program to find no of Cpu used."
   ]
  },
  {
   "cell_type": "code",
   "execution_count": 84,
   "id": "fcada1f3",
   "metadata": {},
   "outputs": [
    {
     "data": {
      "text/plain": [
       "4"
      ]
     },
     "execution_count": 84,
     "metadata": {},
     "output_type": "execute_result"
    }
   ],
   "source": [
    "import os\n",
    "os.cpu_count()"
   ]
  },
  {
   "cell_type": "markdown",
   "id": "2ab7ca89",
   "metadata": {},
   "source": [
    "#### 47) Write a Python program to parse a string to float or integer."
   ]
  },
  {
   "cell_type": "code",
   "execution_count": 89,
   "id": "7ed26b41",
   "metadata": {},
   "outputs": [],
   "source": [
    "def str_int_float(string):\n",
    "    \n",
    "    print(f\"Integer value :{int(string.split('.')[0])}\\nFloat value :{float(string)}\")\n",
    "    "
   ]
  },
  {
   "cell_type": "code",
   "execution_count": 91,
   "id": "e48d6ddc",
   "metadata": {},
   "outputs": [
    {
     "name": "stdout",
     "output_type": "stream",
     "text": [
      "Integer value :12\n",
      "Float value :12.568\n"
     ]
    }
   ],
   "source": [
    "str_int_float('12.568')"
   ]
  },
  {
   "cell_type": "markdown",
   "id": "eaba3ef4",
   "metadata": {},
   "source": [
    "#### 48) Write a Python program to get current username."
   ]
  },
  {
   "cell_type": "code",
   "execution_count": 97,
   "id": "80ef4d12",
   "metadata": {},
   "outputs": [
    {
     "data": {
      "text/plain": [
       "'Amrit Raj'"
      ]
     },
     "execution_count": 97,
     "metadata": {},
     "output_type": "execute_result"
    }
   ],
   "source": [
    "import os\n",
    "os.environ.get('username')"
   ]
  },
  {
   "cell_type": "markdown",
   "id": "caf429a3",
   "metadata": {},
   "source": [
    "#### 49) Python code to find height and width of the window console."
   ]
  },
  {
   "cell_type": "code",
   "execution_count": 103,
   "id": "6d54e8d7",
   "metadata": {},
   "outputs": [
    {
     "name": "stdout",
     "output_type": "stream",
     "text": [
      "Width :120\n",
      "Height :30\n"
     ]
    }
   ],
   "source": [
    "import shutil\n",
    "Width = shutil.get_terminal_size().columns\n",
    "Height = shutil.get_terminal_size().lines\n",
    "\n",
    "print(f\"Width :{Width}\\nHeight :{Height}\")\n",
    "\n"
   ]
  },
  {
   "cell_type": "markdown",
   "id": "c1e6ec2e",
   "metadata": {},
   "source": [
    "#### 50) Write a Python program to sum the first n positive integers"
   ]
  },
  {
   "cell_type": "code",
   "execution_count": 109,
   "id": "11c0d376",
   "metadata": {},
   "outputs": [],
   "source": [
    "def sum_n_integers(n):\n",
    "    sum = 0\n",
    "    for i in range(n+1):\n",
    "        sum += i\n",
    "    return sum"
   ]
  },
  {
   "cell_type": "code",
   "execution_count": 111,
   "id": "40aa47b1",
   "metadata": {},
   "outputs": [
    {
     "data": {
      "text/plain": [
       "120"
      ]
     },
     "execution_count": 111,
     "metadata": {},
     "output_type": "execute_result"
    }
   ],
   "source": [
    "sum_n_integers(15)"
   ]
  },
  {
   "cell_type": "markdown",
   "id": "a73cb58a",
   "metadata": {},
   "source": [
    "#### 51) Write a Python program to convert height (in feet and inches) to centimeters."
   ]
  },
  {
   "cell_type": "code",
   "execution_count": 117,
   "id": "d865e28b",
   "metadata": {},
   "outputs": [],
   "source": [
    "def feet_cm(height):\n",
    "    feet = int(height.split('.')[0])\n",
    "    inch = int(height.split('.')[1])\n",
    "    return feet * 30.48 + inch * 2.54"
   ]
  },
  {
   "cell_type": "code",
   "execution_count": 118,
   "id": "a8b26ef5",
   "metadata": {},
   "outputs": [
    {
     "data": {
      "text/plain": [
       "172.72"
      ]
     },
     "execution_count": 118,
     "metadata": {},
     "output_type": "execute_result"
    }
   ],
   "source": [
    "feet_cm('5.8')"
   ]
  },
  {
   "cell_type": "markdown",
   "id": "a4a99191",
   "metadata": {},
   "source": [
    "#### 52) Write a Python program to calculate the hypotenuse of a right angled triangle."
   ]
  },
  {
   "cell_type": "code",
   "execution_count": 120,
   "id": "a7475c5d",
   "metadata": {},
   "outputs": [],
   "source": [
    "def hypotenuse(height , base):\n",
    "    return ((height)**2 + (base)**2)**.5"
   ]
  },
  {
   "cell_type": "code",
   "execution_count": 121,
   "id": "b1c620a4",
   "metadata": {},
   "outputs": [
    {
     "data": {
      "text/plain": [
       "5.0"
      ]
     },
     "execution_count": 121,
     "metadata": {},
     "output_type": "execute_result"
    }
   ],
   "source": [
    "hypotenuse(4,3)"
   ]
  },
  {
   "cell_type": "markdown",
   "id": "eeb8452d",
   "metadata": {},
   "source": [
    "#### 53) Write a Python program to convert the distance (in feet) to inches, yards, and miles."
   ]
  },
  {
   "cell_type": "code",
   "execution_count": 127,
   "id": "bdd0f712",
   "metadata": {},
   "outputs": [],
   "source": [
    "def distance_conversion(d):\n",
    "    feet = int(d.split('.')[0])\n",
    "    inch = int(d.split('.')[1])\n",
    "    inches = feet * 12 + inch\n",
    "    \n",
    "    print(f\"Distance in inch {inches}\\nDistance in yard :{inches*.0277778}\\nDistance in miles {inches*1.5783/100000}\")"
   ]
  },
  {
   "cell_type": "code",
   "execution_count": 128,
   "id": "c7db4235",
   "metadata": {},
   "outputs": [
    {
     "name": "stdout",
     "output_type": "stream",
     "text": [
      "Distance in inch 12021\n",
      "Distance in yard :333.9169338\n",
      "Distance in miles 0.18972744300000002\n"
     ]
    }
   ],
   "source": [
    "distance_conversion('1001.9')"
   ]
  },
  {
   "cell_type": "markdown",
   "id": "0eed0515",
   "metadata": {},
   "source": [
    "#### 54) Write a Python program to convert all units of time into seconds."
   ]
  },
  {
   "cell_type": "code",
   "execution_count": 131,
   "id": "36d866bd",
   "metadata": {},
   "outputs": [],
   "source": [
    "def seconds_conversion(day ,hr , minutes , seconds):\n",
    "    day_to_sec = day * 24 * 60*60\n",
    "    hr_to_sec = hr * 60 *60\n",
    "    min_to_sec = minutes*60\n",
    "\n",
    "    print(f\"Day to second :{day_to_sec}\\nHour to second :{hr_to_sec}\\nMinute to second :{min_to_sec}\")\n",
    "    print(f\"Total second :{day_to_sec + hr_to_sec + min_to_sec + seconds}\")"
   ]
  },
  {
   "cell_type": "code",
   "execution_count": 133,
   "id": "62c4cd3e",
   "metadata": {},
   "outputs": [
    {
     "name": "stdout",
     "output_type": "stream",
     "text": [
      "Day to second :432000\n",
      "Hour to second :75600\n",
      "Minute to second :2520\n",
      "Total second :510146\n"
     ]
    }
   ],
   "source": [
    "seconds_conversion(5,21,42,26)"
   ]
  },
  {
   "cell_type": "markdown",
   "id": "92e8cd04",
   "metadata": {},
   "source": [
    "#### 55) Write a Python program to find Body mass Index."
   ]
  },
  {
   "cell_type": "code",
   "execution_count": 140,
   "id": "990432c0",
   "metadata": {},
   "outputs": [],
   "source": [
    "def BMI_calculator(Height_in_mtr, weight_in_kg):\n",
    "    print(f\"Bosy mass Index :{weight_in_kg/(Height_in_mtr*Height_in_mtr):.3f}\")"
   ]
  },
  {
   "cell_type": "code",
   "execution_count": 141,
   "id": "9665bf06",
   "metadata": {},
   "outputs": [
    {
     "name": "stdout",
     "output_type": "stream",
     "text": [
      "Bosy mass Index :23.389\n"
     ]
    }
   ],
   "source": [
    "BMI_calculator(1.73 ,70)"
   ]
  },
  {
   "cell_type": "markdown",
   "id": "ed6c289d",
   "metadata": {},
   "source": [
    "#### 56) Write a Python program to convert pressure in kilopascals to pounds per square inch, a millimeter of mercury (mmHg) and atmosphere pressure."
   ]
  },
  {
   "cell_type": "code",
   "execution_count": 152,
   "id": "2a1e6fc4",
   "metadata": {},
   "outputs": [
    {
     "data": {
      "text/plain": [
       "452"
      ]
     },
     "execution_count": 152,
     "metadata": {},
     "output_type": "execute_result"
    }
   ],
   "source": [
    "4521//10"
   ]
  },
  {
   "cell_type": "code",
   "execution_count": 142,
   "id": "35b2b2e7",
   "metadata": {},
   "outputs": [
    {
     "data": {
      "text/plain": [
       "'4521'"
      ]
     },
     "execution_count": 142,
     "metadata": {},
     "output_type": "execute_result"
    }
   ],
   "source": [
    "str(4521)"
   ]
  },
  {
   "cell_type": "markdown",
   "id": "3d851674",
   "metadata": {},
   "source": [
    "#### 57) Write a Python program to calculate sum of digits of a number."
   ]
  },
  {
   "cell_type": "code",
   "execution_count": 148,
   "id": "897f012e",
   "metadata": {},
   "outputs": [],
   "source": [
    "def sum_digits(n):\n",
    "    sum = 0\n",
    "    n = str(n)\n",
    "    for i in n:\n",
    "        i = int(i)\n",
    "        sum += i\n",
    "    return sum "
   ]
  },
  {
   "cell_type": "code",
   "execution_count": 150,
   "id": "efbdba5a",
   "metadata": {},
   "outputs": [
    {
     "data": {
      "text/plain": [
       "16"
      ]
     },
     "execution_count": 150,
     "metadata": {},
     "output_type": "execute_result"
    }
   ],
   "source": [
    "sum_digits(1834)"
   ]
  },
  {
   "cell_type": "code",
   "execution_count": 153,
   "id": "2c884596",
   "metadata": {},
   "outputs": [],
   "source": [
    "def Sum_digits(n):\n",
    "    sum =0\n",
    "    while n >0:\n",
    "        reminder = n%10\n",
    "        sum += reminder\n",
    "        n = n//10\n",
    "    return sum"
   ]
  },
  {
   "cell_type": "code",
   "execution_count": 154,
   "id": "8db09fb8",
   "metadata": {},
   "outputs": [
    {
     "data": {
      "text/plain": [
       "16"
      ]
     },
     "execution_count": 154,
     "metadata": {},
     "output_type": "execute_result"
    }
   ],
   "source": [
    "Sum_digits(1834)"
   ]
  },
  {
   "cell_type": "markdown",
   "id": "3a46c904",
   "metadata": {},
   "source": [
    "#### 58) Write a Python program to sort three integers without using conditional statements and loops."
   ]
  },
  {
   "cell_type": "code",
   "execution_count": 6,
   "id": "6af95f4a",
   "metadata": {},
   "outputs": [],
   "source": [
    "def sort_3_no(x,y,z):\n",
    "    mini = min(x,y,z)\n",
    "    maxn = max(x,y,z)\n",
    "    mid = (x+y+z) - mini - maxn\n",
    "    return (mini , mid, maxn)"
   ]
  },
  {
   "cell_type": "code",
   "execution_count": 7,
   "id": "eae00f89",
   "metadata": {},
   "outputs": [
    {
     "data": {
      "text/plain": [
       "(5, 20, 48)"
      ]
     },
     "execution_count": 7,
     "metadata": {},
     "output_type": "execute_result"
    }
   ],
   "source": [
    "sort_3_no(48,5,20)"
   ]
  },
  {
   "cell_type": "markdown",
   "id": "cb92bcc0",
   "metadata": {},
   "source": [
    "#### 59) Write a Python program to find mid point of a line."
   ]
  },
  {
   "cell_type": "code",
   "execution_count": 8,
   "id": "2814814b",
   "metadata": {},
   "outputs": [],
   "source": [
    "def line_mid_point(x1,y1,x2,y2):\n",
    "    return ((x2-x1)/2,(y2-y1)/2)"
   ]
  },
  {
   "cell_type": "code",
   "execution_count": 9,
   "id": "6fb224d1",
   "metadata": {},
   "outputs": [
    {
     "data": {
      "text/plain": [
       "(6.0, 4.5)"
      ]
     },
     "execution_count": 9,
     "metadata": {},
     "output_type": "execute_result"
    }
   ],
   "source": [
    "line_mid_point(7,12,19,21)"
   ]
  },
  {
   "cell_type": "markdown",
   "id": "bed27f5b",
   "metadata": {},
   "source": [
    "#### 60) Write a Python program to hash a word."
   ]
  },
  {
   "cell_type": "code",
   "execution_count": 10,
   "id": "93a8fc72",
   "metadata": {},
   "outputs": [],
   "source": [
    "import hashlib\n",
    "def hashed_word(word):\n",
    "    words = hashlib.sha256(word.encode()).hexdigest()\n",
    "    return words "
   ]
  },
  {
   "cell_type": "code",
   "execution_count": 11,
   "id": "60d6240b",
   "metadata": {},
   "outputs": [
    {
     "data": {
      "text/plain": [
       "'4f69905a2fdf3232f20e16f046e3c64563dc6dee02a6659c9d67ba0d2845c6a8'"
      ]
     },
     "execution_count": 11,
     "metadata": {},
     "output_type": "execute_result"
    }
   ],
   "source": [
    "hashed_word('Raj')"
   ]
  },
  {
   "cell_type": "markdown",
   "id": "ee1c18d7",
   "metadata": {},
   "source": [
    "#### 61) Write a Python program to calculate the sum of all items of a container (tuple, list, set, dictionary)."
   ]
  },
  {
   "cell_type": "code",
   "execution_count": 22,
   "id": "a093f4c9",
   "metadata": {},
   "outputs": [],
   "source": [
    "def sum_container(tuples , lists , sets , dictionary):\n",
    "    tuple_sum = sum(tuples)\n",
    "    list_sum = sum(lists)\n",
    "    set_sum = sum(sets)\n",
    "    dict_sum = sum(dictionary.values())\n",
    "    print(f\"Tuple sum :{tuple_sum}\\nLists sum :{list_sum}\\nSet sum :{set_sum}\\nDictonary values sum :{dict_sum}\")"
   ]
  },
  {
   "cell_type": "code",
   "execution_count": 23,
   "id": "10872271",
   "metadata": {},
   "outputs": [
    {
     "name": "stdout",
     "output_type": "stream",
     "text": [
      "Tuple sum :87\n",
      "Lists sum :91\n",
      "Set sum :18\n",
      "Dictonary values sum :41\n"
     ]
    }
   ],
   "source": [
    "sum_container((5,2,80),[8,10,9,64],{4,5,7,2},{'a':10,8:16,'b':15})"
   ]
  },
  {
   "cell_type": "markdown",
   "id": "83bc8405",
   "metadata": {},
   "source": [
    "#### 62) Write a Python program to get the size of an object in bytes."
   ]
  },
  {
   "cell_type": "code",
   "execution_count": 14,
   "id": "126608b3",
   "metadata": {},
   "outputs": [],
   "source": [
    "import sys\n",
    "def obj_size_bytes(obj):\n",
    "    return sys.getsizeof(obj)"
   ]
  },
  {
   "cell_type": "code",
   "execution_count": 15,
   "id": "bb3302fe",
   "metadata": {},
   "outputs": [
    {
     "data": {
      "text/plain": [
       "28"
      ]
     },
     "execution_count": 15,
     "metadata": {},
     "output_type": "execute_result"
    }
   ],
   "source": [
    "obj_size_bytes(5421)"
   ]
  },
  {
   "cell_type": "markdown",
   "id": "3502062d",
   "metadata": {},
   "source": [
    "#### 63) Write a Python program to get the current value of the recursion limit."
   ]
  },
  {
   "cell_type": "code",
   "execution_count": 16,
   "id": "ca754d4d",
   "metadata": {},
   "outputs": [
    {
     "name": "stdout",
     "output_type": "stream",
     "text": [
      "3000\n"
     ]
    }
   ],
   "source": [
    "import sys\n",
    "print(sys.getrecursionlimit())"
   ]
  },
  {
   "cell_type": "markdown",
   "id": "f97a45b3",
   "metadata": {},
   "source": [
    "#### 64) Write a Python program to concatenate N strings."
   ]
  },
  {
   "cell_type": "code",
   "execution_count": 41,
   "id": "b5f6f2fc",
   "metadata": {},
   "outputs": [],
   "source": [
    "def concatenate_str(*args):\n",
    "    #l= list(args)\n",
    "    result = ' '.join(args)\n",
    "    return result"
   ]
  },
  {
   "cell_type": "code",
   "execution_count": 43,
   "id": "730a0702",
   "metadata": {},
   "outputs": [
    {
     "data": {
      "text/plain": [
       "'I Love India'"
      ]
     },
     "execution_count": 43,
     "metadata": {},
     "output_type": "execute_result"
    }
   ],
   "source": [
    "concatenate_str('I','Love','India')"
   ]
  },
  {
   "cell_type": "code",
   "execution_count": 4,
   "id": "17b6565e",
   "metadata": {},
   "outputs": [
    {
     "name": "stdout",
     "output_type": "stream",
     "text": [
      "Enter nos of strings :3\n",
      "Enter the string 1 :Amrit \n",
      "Enter the string 2 :Raj \n",
      "Enter the string 3 :Dubey\n",
      "Concatenated String :Amrit Raj Dubey\n"
     ]
    }
   ],
   "source": [
    "N = int(input('Enter nos of strings :'))\n",
    "Strings = []\n",
    "for i in range(N):\n",
    "    string = input(f'Enter the string {i+1} :')\n",
    "    Strings.append(string)\n",
    "def concatenate_n_strs(Strings):\n",
    "    result = ''\n",
    "    for i in Strings:\n",
    "        result += i\n",
    "    return result\n",
    "concatenated_string = concatenate_n_strs(Strings)\n",
    "print(f\"Concatenated String :{concatenated_string}\")"
   ]
  },
  {
   "cell_type": "markdown",
   "id": "7d29ac02",
   "metadata": {},
   "source": [
    "#### 65) Write a Python program to test whether all numbers in a list are greater than a certain number."
   ]
  },
  {
   "cell_type": "code",
   "execution_count": 9,
   "id": "a658e554",
   "metadata": {},
   "outputs": [],
   "source": [
    "def compare_no(lists , n):\n",
    "    if (sum(lists)/len(lists) ) < n:\n",
    "        print(f'All numbers are not Greater than {n}')\n",
    "    else:\n",
    "        print(f\"All numbers are greater than {n}\")\n",
    "            "
   ]
  },
  {
   "cell_type": "code",
   "execution_count": 11,
   "id": "64e43bc8",
   "metadata": {},
   "outputs": [
    {
     "name": "stdout",
     "output_type": "stream",
     "text": [
      "All numbers are not Greater than 100\n"
     ]
    }
   ],
   "source": [
    "compare_no([52,12,85,90,88],100)"
   ]
  },
  {
   "cell_type": "markdown",
   "id": "37793a72",
   "metadata": {},
   "source": [
    "#### 66) Write a Python program to count the number of occurrences of a specific character in a string."
   ]
  },
  {
   "cell_type": "code",
   "execution_count": 12,
   "id": "dd1fa53d",
   "metadata": {},
   "outputs": [],
   "source": [
    "# Strings = Sentence\n",
    "# special_char = list of characters in string format, Lets check for all special characters\n",
    "def count_special_char(strings , special_char):\n",
    "    count = 0\n",
    "    for i in strings:\n",
    "        if i in special_char:\n",
    "            count += 1\n",
    "    return count"
   ]
  },
  {
   "cell_type": "code",
   "execution_count": 16,
   "id": "740819b9",
   "metadata": {},
   "outputs": [
    {
     "data": {
      "text/plain": [
       "7"
      ]
     },
     "execution_count": 16,
     "metadata": {},
     "output_type": "execute_result"
    }
   ],
   "source": [
    "count_special_char('Th#s produ&c% bel@*gs to @!',['!','@','#','$','%','^','&','*','(',')'])"
   ]
  },
  {
   "cell_type": "markdown",
   "id": "0f1081a1",
   "metadata": {},
   "source": [
    "#### 67) Write a Python program to get the ASCII value of a character."
   ]
  },
  {
   "cell_type": "code",
   "execution_count": 7,
   "id": "9195f82d",
   "metadata": {},
   "outputs": [
    {
     "name": "stdout",
     "output_type": "stream",
     "text": [
      "Provide the character :A\n",
      "ASCII value of A is :65\n"
     ]
    }
   ],
   "source": [
    "def ASCII_val(char):\n",
    "    Asc_char =  ord(char)\n",
    "    print(f\"ASCII value of {char} is :{Asc_char}\")\n",
    "    \n",
    "char = input('Provide the character :')\n",
    "ASCII_val(char)"
   ]
  },
  {
   "cell_type": "markdown",
   "id": "55d18b14",
   "metadata": {},
   "source": [
    "#### 68) Write a Python program to get the size of a file."
   ]
  },
  {
   "cell_type": "code",
   "execution_count": 8,
   "id": "5d6b531d",
   "metadata": {},
   "outputs": [],
   "source": [
    "import os\n",
    "def get_file_size(filepath):\n",
    "    try:\n",
    "        size = os.path.getsize(filepath)\n",
    "        return size\n",
    "    except Filenotfound:\n",
    "        return -1"
   ]
  },
  {
   "cell_type": "code",
   "execution_count": 10,
   "id": "5796d6aa",
   "metadata": {},
   "outputs": [
    {
     "data": {
      "text/plain": [
       "207"
      ]
     },
     "execution_count": 10,
     "metadata": {},
     "output_type": "execute_result"
    }
   ],
   "source": [
    "get_file_size('books.csv')"
   ]
  },
  {
   "cell_type": "markdown",
   "id": "e8e15247",
   "metadata": {},
   "source": [
    "#### 69) Write a Python program to perform an action if a condition is true.\n",
    "Given a variable name, if the value is 1, display the string \"First day of a Month!\" and do nothing if the value is not equal."
   ]
  },
  {
   "cell_type": "code",
   "execution_count": 11,
   "id": "2005ad78",
   "metadata": {},
   "outputs": [],
   "source": [
    "def check_val(value):\n",
    "    if value == 1:\n",
    "        print('First day of a Month!')\n",
    "    else:\n",
    "        pass"
   ]
  },
  {
   "cell_type": "code",
   "execution_count": 13,
   "id": "536cae28",
   "metadata": {},
   "outputs": [
    {
     "name": "stdout",
     "output_type": "stream",
     "text": [
      "First day of a Month!\n"
     ]
    }
   ],
   "source": [
    "check_val(1)"
   ]
  },
  {
   "cell_type": "markdown",
   "id": "f32ca151",
   "metadata": {},
   "source": [
    "#### 70) Write a Python program to swap two variables."
   ]
  },
  {
   "cell_type": "code",
   "execution_count": 14,
   "id": "a9ff42f6",
   "metadata": {},
   "outputs": [],
   "source": [
    "def swap_var(a,b):\n",
    "    a,b = b,a\n",
    "    return a,b"
   ]
  },
  {
   "cell_type": "code",
   "execution_count": 15,
   "id": "c8db0ef7",
   "metadata": {},
   "outputs": [
    {
     "data": {
      "text/plain": [
       "(8, 10)"
      ]
     },
     "execution_count": 15,
     "metadata": {},
     "output_type": "execute_result"
    }
   ],
   "source": [
    "swap_var(10,8)"
   ]
  },
  {
   "cell_type": "markdown",
   "id": "c6772107",
   "metadata": {},
   "source": [
    "#### 71) Write a Python program to get the Identity, Type, and Value of an object."
   ]
  },
  {
   "cell_type": "code",
   "execution_count": 20,
   "id": "1c750cdb",
   "metadata": {},
   "outputs": [],
   "source": [
    "def identity(x):\n",
    "    identity = id(x)\n",
    "    Type = type(x)\n",
    "    value = x\n",
    "    print(f\"Identity :{identity}\\nData Type of {x} :{Type}\\nValue :{value}\")"
   ]
  },
  {
   "cell_type": "code",
   "execution_count": 21,
   "id": "b535eace",
   "metadata": {},
   "outputs": [
    {
     "name": "stdout",
     "output_type": "stream",
     "text": [
      "Identity :2240923063280\n",
      "Data Type of 85 :<class 'int'>\n",
      "Value :85\n"
     ]
    }
   ],
   "source": [
    "identity(85)"
   ]
  },
  {
   "cell_type": "markdown",
   "id": "733b0d00",
   "metadata": {},
   "source": [
    "#### 72) Write a Python program to convert the int to byte."
   ]
  },
  {
   "cell_type": "code",
   "execution_count": 30,
   "id": "9692d4d5",
   "metadata": {},
   "outputs": [],
   "source": [
    "def int_byte(integer):\n",
    "    return integer.to_bytes(length =2,byteorder = 'big')"
   ]
  },
  {
   "cell_type": "code",
   "execution_count": 31,
   "id": "0d869fb4",
   "metadata": {},
   "outputs": [
    {
     "data": {
      "text/plain": [
       "b'\\x008'"
      ]
     },
     "execution_count": 31,
     "metadata": {},
     "output_type": "execute_result"
    }
   ],
   "source": [
    "int_byte(56)"
   ]
  },
  {
   "cell_type": "markdown",
   "id": "3292eace",
   "metadata": {},
   "source": [
    "#### 72) Write a Python program to convert the bytes in a given string to a list of integers."
   ]
  },
  {
   "cell_type": "code",
   "execution_count": 26,
   "id": "3294c3a4",
   "metadata": {},
   "outputs": [],
   "source": [
    "def byte_int(byte):\n",
    "    return int.from_bytes(byte ,byteorder= 'big' )"
   ]
  },
  {
   "cell_type": "code",
   "execution_count": 32,
   "id": "826122ef",
   "metadata": {},
   "outputs": [
    {
     "data": {
      "text/plain": [
       "56"
      ]
     },
     "execution_count": 32,
     "metadata": {},
     "output_type": "execute_result"
    }
   ],
   "source": [
    "byte_int(b'\\x008')"
   ]
  },
  {
   "cell_type": "markdown",
   "id": "03962d26",
   "metadata": {},
   "source": [
    "#### 73) Write a Python program to check whether a string is numeric."
   ]
  },
  {
   "cell_type": "code",
   "execution_count": 46,
   "id": "f00c9bc2",
   "metadata": {},
   "outputs": [],
   "source": [
    "def check_str(string):\n",
    "    try:\n",
    "        s = int(string)\n",
    "        if type(s) == int:\n",
    "            print('String is numeric')\n",
    "    except:\n",
    "        print('String is not numeric')"
   ]
  },
  {
   "cell_type": "code",
   "execution_count": 47,
   "id": "d42cb529",
   "metadata": {},
   "outputs": [
    {
     "name": "stdout",
     "output_type": "stream",
     "text": [
      "String is not numeric\n"
     ]
    }
   ],
   "source": [
    "check_str('10s')"
   ]
  },
  {
   "cell_type": "markdown",
   "id": "feb0a491",
   "metadata": {},
   "source": [
    "#### 74) Split the sentence based on given character"
   ]
  },
  {
   "cell_type": "code",
   "execution_count": 2,
   "id": "f6da896a",
   "metadata": {},
   "outputs": [],
   "source": [
    "def sen_split(sentence, character):\n",
    "    return sentence.split(characteracter)"
   ]
  },
  {
   "cell_type": "code",
   "execution_count": 3,
   "id": "9dd6d4e5",
   "metadata": {},
   "outputs": [
    {
     "data": {
      "text/plain": [
       "['Th', ' ', ' beautifull place we must v', 'it there']"
      ]
     },
     "execution_count": 3,
     "metadata": {},
     "output_type": "execute_result"
    }
   ],
   "source": [
    "sen_split('This is beautifull place we must visit there','is')"
   ]
  },
  {
   "cell_type": "markdown",
   "id": "1ab4e91d",
   "metadata": {},
   "source": [
    "#### 75) Write a Python program to get system time."
   ]
  },
  {
   "cell_type": "code",
   "execution_count": 1,
   "id": "875a32ae",
   "metadata": {},
   "outputs": [
    {
     "name": "stdout",
     "output_type": "stream",
     "text": [
      "2023-09-05 00:07:37.251211\n"
     ]
    }
   ],
   "source": [
    "import datetime\n",
    "print(datetime.datetime.now())"
   ]
  },
  {
   "cell_type": "markdown",
   "id": "dea663f3",
   "metadata": {},
   "source": [
    "#### 76) Write a Python program to get numbers divisible by fifteen from a list using an anonymous function."
   ]
  },
  {
   "cell_type": "code",
   "execution_count": 2,
   "id": "0fcb60d5",
   "metadata": {},
   "outputs": [],
   "source": [
    "def div_by_15(lists):\n",
    "    div_by_15 = list(filter(lambda x : x% 15 == 0 , lists))\n",
    "    return div_by_15by_15"
   ]
  },
  {
   "cell_type": "code",
   "execution_count": 3,
   "id": "b8736e39",
   "metadata": {},
   "outputs": [
    {
     "data": {
      "text/plain": [
       "[150, 60, 15, 45]"
      ]
     },
     "execution_count": 3,
     "metadata": {},
     "output_type": "execute_result"
    }
   ],
   "source": [
    "div_by_15([20,80,76,100,150,60,15,45])"
   ]
  },
  {
   "cell_type": "markdown",
   "id": "eccde1ed",
   "metadata": {},
   "source": [
    "#### 77) Write a Python program that inputs a number and generates an error message if it is not a number."
   ]
  },
  {
   "cell_type": "code",
   "execution_count": 12,
   "id": "5798bcfc",
   "metadata": {},
   "outputs": [],
   "source": [
    "def identify_num(inputs):\n",
    "    if type(inputs) == int:\n",
    "        print('Its a number')\n",
    "    else:\n",
    "        print('Error msg : Its not a number')"
   ]
  },
  {
   "cell_type": "code",
   "execution_count": 13,
   "id": "1463351c",
   "metadata": {},
   "outputs": [
    {
     "name": "stdout",
     "output_type": "stream",
     "text": [
      "Its a number\n"
     ]
    }
   ],
   "source": [
    "identify_num(4521)"
   ]
  },
  {
   "cell_type": "markdown",
   "id": "18739fb4",
   "metadata": {},
   "source": [
    "#### 78) Write a Python program to filter positive numbers from a list."
   ]
  },
  {
   "cell_type": "code",
   "execution_count": 14,
   "id": "221fd2c1",
   "metadata": {},
   "outputs": [],
   "source": [
    "def filter_pos(lists):\n",
    "    l=[]\n",
    "    for i in lists:\n",
    "        if i > 0:\n",
    "            l.append(i)\n",
    "    return l"
   ]
  },
  {
   "cell_type": "code",
   "execution_count": 15,
   "id": "d404c7b5",
   "metadata": {},
   "outputs": [
    {
     "data": {
      "text/plain": [
       "[10, 8, 56]"
      ]
     },
     "execution_count": 15,
     "metadata": {},
     "output_type": "execute_result"
    }
   ],
   "source": [
    "filter_pos([10,-5,8,-9,56,-10,-85])"
   ]
  },
  {
   "cell_type": "code",
   "execution_count": 16,
   "id": "69c3b9f9",
   "metadata": {},
   "outputs": [],
   "source": [
    "def filters_pos(lists):\n",
    "    pos_list = list(filter(lambda x : x> 0,lists))\n",
    "    return pos_list"
   ]
  },
  {
   "cell_type": "code",
   "execution_count": 17,
   "id": "7977ce1a",
   "metadata": {},
   "outputs": [
    {
     "data": {
      "text/plain": [
       "[10, 5, 56]"
      ]
     },
     "execution_count": 17,
     "metadata": {},
     "output_type": "execute_result"
    }
   ],
   "source": [
    "filters_pos([10,-8,5,-96,56])"
   ]
  },
  {
   "cell_type": "markdown",
   "id": "71c158be",
   "metadata": {},
   "source": [
    "#### 79) Write a Python program to compute the product of a list of integers (without using a for loop)."
   ]
  },
  {
   "cell_type": "code",
   "execution_count": 18,
   "id": "e90d682c",
   "metadata": {},
   "outputs": [],
   "source": [
    "def list_product(lists):\n",
    "    from functools import reduce\n",
    "    multiple = reduce(lambda x,y : x*y , lists)\n",
    "    return multiple\n"
   ]
  },
  {
   "cell_type": "code",
   "execution_count": 19,
   "id": "5bb8dc54",
   "metadata": {},
   "outputs": [
    {
     "data": {
      "text/plain": [
       "3200"
      ]
     },
     "execution_count": 19,
     "metadata": {},
     "output_type": "execute_result"
    }
   ],
   "source": [
    "list_product([2,8,4,10,5])"
   ]
  },
  {
   "cell_type": "markdown",
   "id": "cd01de85",
   "metadata": {},
   "source": [
    "#### 80) Write a Python program to round a floating-point number to a specified number of decimal places."
   ]
  },
  {
   "cell_type": "code",
   "execution_count": 22,
   "id": "67c48b5c",
   "metadata": {},
   "outputs": [],
   "source": [
    "def round_float(floating,n):\n",
    "    return round(floating,n)"
   ]
  },
  {
   "cell_type": "code",
   "execution_count": 23,
   "id": "da7833e7",
   "metadata": {},
   "outputs": [
    {
     "data": {
      "text/plain": [
       "51.25"
      ]
     },
     "execution_count": 23,
     "metadata": {},
     "output_type": "execute_result"
    }
   ],
   "source": [
    "round_float(51.2458,2)"
   ]
  },
  {
   "cell_type": "markdown",
   "id": "b368f328",
   "metadata": {},
   "source": [
    "#### 81) Write a Python program to format a specified string and limit the length of a string."
   ]
  },
  {
   "cell_type": "code",
   "execution_count": 1,
   "id": "b4a994fd",
   "metadata": {},
   "outputs": [],
   "source": [
    "def format_string_length(strings , length):\n",
    "    if len(strings) > length:\n",
    "        return strings[:length]\n",
    "    else:\n",
    "        return strings"
   ]
  },
  {
   "cell_type": "code",
   "execution_count": 2,
   "id": "1557096f",
   "metadata": {},
   "outputs": [
    {
     "data": {
      "text/plain": [
       "'This is a good '"
      ]
     },
     "execution_count": 2,
     "metadata": {},
     "output_type": "execute_result"
    }
   ],
   "source": [
    "format_string_length('This is a good damn thing I will sure own it one day',15)"
   ]
  },
  {
   "cell_type": "markdown",
   "id": "b0e48504",
   "metadata": {},
   "source": [
    "#### 82) Write a Python program to determine the largest and smallest integers, longs, and floats."
   ]
  },
  {
   "cell_type": "code",
   "execution_count": 56,
   "id": "9e370f83",
   "metadata": {},
   "outputs": [],
   "source": [
    "def longest_smallest_var(lists):\n",
    "    l1 = []\n",
    "    l2 = []\n",
    "    l3 = []\n",
    "    for i in lists:\n",
    "        if type(i) == int:\n",
    "            l1.append(i)\n",
    "        elif type(i) == str:\n",
    "            l2.append(i)\n",
    "        elif type(i) == float:\n",
    "            l3.append(i)\n",
    "    print(f'Smallest integer value is: {min(l2, key=len)} and Largest integer value is: {max(l2, key=len)}')\n",
    "    print(f'Smallest String value is :{min(l1,key= lambda x : len(str(x)))} and Largest String value is :{max(l1,key=lambda x : len(str(x)))}')\n",
    "    print(f'Smallest String value is :{min(l3,key= lambda x : len(str(x)))} and Largest String value is :{max(l3,key=lambda x : len(str(x)))}')"
   ]
  },
  {
   "cell_type": "code",
   "execution_count": 57,
   "id": "621fe433",
   "metadata": {},
   "outputs": [
    {
     "name": "stdout",
     "output_type": "stream",
     "text": [
      "Smallest integer value is: O and Largest integer value is: Pineapple\n",
      "Smallest String value is :5 and Largest String value is :7854\n",
      "Smallest String value is :1.1 and Largest String value is :20.54\n"
     ]
    }
   ],
   "source": [
    "longest_smallest_var([5,10,'XYZ',20.54,'OJHB','Raj','O',7854,10.2,1.1,'Pineapple'])"
   ]
  },
  {
   "cell_type": "markdown",
   "id": "e57b9f88",
   "metadata": {},
   "source": [
    "#### 83) Write a Python program to check whether multiple variables have the same value."
   ]
  },
  {
   "cell_type": "code",
   "execution_count": 59,
   "id": "4d7a93e7",
   "metadata": {},
   "outputs": [],
   "source": [
    "def check_variable(l):\n",
    "    if sum(l)/len(l) == max(l):\n",
    "        print('All values are same')\n",
    "    else:\n",
    "        print('All values are not same')"
   ]
  },
  {
   "cell_type": "code",
   "execution_count": 62,
   "id": "4e590b88",
   "metadata": {},
   "outputs": [
    {
     "name": "stdout",
     "output_type": "stream",
     "text": [
      "All values are not same\n"
     ]
    }
   ],
   "source": [
    "check_variable([10,10,10,100])"
   ]
  },
  {
   "cell_type": "markdown",
   "id": "03ef024a",
   "metadata": {},
   "source": [
    "#### 84) Write a Python program to sum all counts in a collection."
   ]
  },
  {
   "cell_type": "code",
   "execution_count": 66,
   "id": "1536fea2",
   "metadata": {},
   "outputs": [],
   "source": [
    "def count_collection(lists):\n",
    "    count =0\n",
    "    for i in lists:\n",
    "        count += i\n",
    "    return count"
   ]
  },
  {
   "cell_type": "code",
   "execution_count": 67,
   "id": "9f2e4db4",
   "metadata": {},
   "outputs": [
    {
     "data": {
      "text/plain": [
       "29"
      ]
     },
     "execution_count": 67,
     "metadata": {},
     "output_type": "execute_result"
    }
   ],
   "source": [
    "count_collection([10,5,1,5,8])"
   ]
  },
  {
   "cell_type": "markdown",
   "id": "b01617fa",
   "metadata": {},
   "source": [
    "#### 85) Write a Python program to check whether lowercase letters exist in a string"
   ]
  },
  {
   "cell_type": "code",
   "execution_count": 10,
   "id": "8b4cb4d2",
   "metadata": {},
   "outputs": [],
   "source": [
    "def check_lowercase(strings):\n",
    "    string_upper = strings.upper()\n",
    "    if string_upper == strings:\n",
    "        print('No lowercase in string')\n",
    "    else:\n",
    "        print('Lowercase present in string')"
   ]
  },
  {
   "cell_type": "code",
   "execution_count": 14,
   "id": "64467825",
   "metadata": {},
   "outputs": [
    {
     "name": "stdout",
     "output_type": "stream",
     "text": [
      "No lowercase in string\n"
     ]
    }
   ],
   "source": [
    "check_lowercase('I LOVE MY COUNTRY')"
   ]
  },
  {
   "cell_type": "markdown",
   "id": "d600a87a",
   "metadata": {},
   "source": [
    "#### 86) Write a Python program to add leading zeroes to a string."
   ]
  },
  {
   "cell_type": "code",
   "execution_count": 24,
   "id": "1edb31c8",
   "metadata": {},
   "outputs": [],
   "source": [
    "def add_zero_strings(strings,n):\n",
    "    return strings + n*str(0)"
   ]
  },
  {
   "cell_type": "code",
   "execution_count": 25,
   "id": "ee128078",
   "metadata": {},
   "outputs": [
    {
     "data": {
      "text/plain": [
       "'This00000'"
      ]
     },
     "execution_count": 25,
     "metadata": {},
     "output_type": "execute_result"
    }
   ],
   "source": [
    "add_zero_strings('This',5)"
   ]
  },
  {
   "cell_type": "markdown",
   "id": "0cb132a0",
   "metadata": {},
   "source": [
    "#### 87) Write a Python program to split a variable length string into variables."
   ]
  },
  {
   "cell_type": "code",
   "execution_count": 29,
   "id": "12dabeb3",
   "metadata": {},
   "outputs": [],
   "source": [
    "def split_string(strings):\n",
    "    lists = strings.split()\n",
    "    print(f'Variables of the strings are :{lists}')"
   ]
  },
  {
   "cell_type": "code",
   "execution_count": 30,
   "id": "aa0ca13a",
   "metadata": {},
   "outputs": [
    {
     "name": "stdout",
     "output_type": "stream",
     "text": [
      "Variables of the strings are :['This', 'is', 'my', 'car']\n"
     ]
    }
   ],
   "source": [
    "split_string('This is my car')"
   ]
  },
  {
   "cell_type": "markdown",
   "id": "e1ea88f6",
   "metadata": {},
   "source": [
    "#### 88) Write a Python program to print a variable without spaces between values.\n",
    "    Sample value : x =30\n",
    "    Expected output : Value of x is \"30\""
   ]
  },
  {
   "cell_type": "code",
   "execution_count": 32,
   "id": "c5074147",
   "metadata": {},
   "outputs": [],
   "source": [
    "def print_no_space(x):\n",
    "    print(f'Expected value of x is \"{x}\"')"
   ]
  },
  {
   "cell_type": "code",
   "execution_count": 33,
   "id": "c29650fc",
   "metadata": {},
   "outputs": [
    {
     "name": "stdout",
     "output_type": "stream",
     "text": [
      "Expected value of x is \"10\"\n"
     ]
    }
   ],
   "source": [
    "print_no_space(10)"
   ]
  },
  {
   "cell_type": "markdown",
   "id": "bf9f728c",
   "metadata": {},
   "source": [
    "#### 89) Write a python program to convert decimal to hexadecimal.\n",
    "    Sample decimal number: 30, 4\n",
    "    Expected output: 1e, 04"
   ]
  },
  {
   "cell_type": "code",
   "execution_count": null,
   "id": "390606e0",
   "metadata": {},
   "outputs": [],
   "source": [
    "def decimal_to_hexadecimal(value):\n",
    "    "
   ]
  },
  {
   "cell_type": "code",
   "execution_count": 34,
   "id": "9337823f",
   "metadata": {},
   "outputs": [
    {
     "data": {
      "text/plain": [
       "3"
      ]
     },
     "execution_count": 34,
     "metadata": {},
     "output_type": "execute_result"
    }
   ],
   "source": [
    "round(3.04)"
   ]
  },
  {
   "cell_type": "code",
   "execution_count": 36,
   "id": "fd36395f",
   "metadata": {},
   "outputs": [
    {
     "data": {
      "text/plain": [
       "1.0"
      ]
     },
     "execution_count": 36,
     "metadata": {},
     "output_type": "execute_result"
    }
   ],
   "source": [
    "3.04//3"
   ]
  },
  {
   "cell_type": "markdown",
   "id": "bf253a6c",
   "metadata": {},
   "source": [
    "#### 90) Write a python program to convert decimal to hexadecimal.\n",
    "    Sample decimal number: 30, 4\n",
    "    Expected output: 1e, 04"
   ]
  },
  {
   "cell_type": "code",
   "execution_count": 41,
   "id": "b3512dd7",
   "metadata": {},
   "outputs": [],
   "source": [
    "def dec_to_hex(decimal_numbers):\n",
    "    hexadecimal_numbers = [hex(num)[2:].zfill(2) for num in decimal_numbers]\n",
    "    for decimal, hexadecimal in zip(decimal_numbers, hexadecimal_numbers):\n",
    "        print(f\"Decimal: {decimal} => Hexadecimal: {hexadecimal}\")"
   ]
  },
  {
   "cell_type": "code",
   "execution_count": 42,
   "id": "5a7ce296",
   "metadata": {},
   "outputs": [
    {
     "name": "stdout",
     "output_type": "stream",
     "text": [
      "Decimal: 30 => Hexadecimal: 1e\n",
      "Decimal: 4 => Hexadecimal: 04\n"
     ]
    }
   ],
   "source": [
    "dec_to_hex([30,4])"
   ]
  },
  {
   "cell_type": "markdown",
   "id": "2256bcc0",
   "metadata": {},
   "source": [
    "#### 91) Write a Python program to check if every consecutive sequence of zeroes is followed by a consecutive sequence of ones of same length in a given string. Return True/False.\n",
    "    Original sequence: 01010101\n",
    "    Check if every consecutive sequence of zeroes is followed by a consecutive sequence of ones in the said string:\n",
    "    True\n",
    "    Original sequence: 00\n",
    "    Check if every consecutive sequence of zeroes is followed by a consecutive sequence of ones in the said string:\n",
    "    False\n",
    "    Original sequence: 000111000111\n",
    "    Check if every consecutive sequence of zeroes is followed by a consecutive sequence of ones in the said string:\n",
    "    True\n",
    "    Original sequence: 00011100011\n",
    "    Check if every consecutive sequence of zeroes is followed by a consecutive sequence of ones in the said string:\n",
    "    False"
   ]
  },
  {
   "cell_type": "code",
   "execution_count": 66,
   "id": "30d5f216",
   "metadata": {},
   "outputs": [],
   "source": [
    "def check_zeroes_followed_by_ones(s):\n",
    "    i,n = 0,len(s)        \n",
    "    while i < n:\n",
    "        count_zeroes = 0\n",
    "        while i < n and s[i] == '0':\n",
    "            count_zeroes += 1\n",
    "            i += 1\n",
    "        count_ones = 0\n",
    "        while i < n and s[i] == '1':\n",
    "            count_ones += 1\n",
    "            i += 1\n",
    "        if count_zeroes != count_ones:\n",
    "            return False\n",
    "        if count_zeroes > 0 and i < n and s[i] != '0':\n",
    "            return False\n",
    "    \n",
    "    return True"
   ]
  },
  {
   "cell_type": "code",
   "execution_count": 69,
   "id": "f9613900",
   "metadata": {},
   "outputs": [
    {
     "name": "stdout",
     "output_type": "stream",
     "text": [
      "Original sequence: 0101010101\n",
      "Check if every consecutive sequence of zeroes is followed by a consecutive sequence of ones: True\n",
      "\n",
      "Original sequence: 00\n",
      "Check if every consecutive sequence of zeroes is followed by a consecutive sequence of ones: False\n",
      "\n",
      "Original sequence: 000111000111\n",
      "Check if every consecutive sequence of zeroes is followed by a consecutive sequence of ones: True\n",
      "\n",
      "Original sequence: 00011100011\n",
      "Check if every consecutive sequence of zeroes is followed by a consecutive sequence of ones: False\n",
      "\n"
     ]
    }
   ],
   "source": [
    "sequences = [\"0101010101\", \"00\", \"000111000111\", \"00011100011\"]\n",
    "for sequence in sequences:\n",
    "    result = check_zeroes_followed_by_ones(sequence)\n",
    "    print(f\"Original sequence: {sequence}\")\n",
    "    print(f\"Check if every consecutive sequence of zeroes is followed by a consecutive sequence of ones: {result}\\n\")"
   ]
  },
  {
   "cell_type": "markdown",
   "id": "c8e7837a",
   "metadata": {},
   "source": [
    "#### 92) Write a Python program to test if a variable is a list, tuple, or set."
   ]
  },
  {
   "cell_type": "code",
   "execution_count": 78,
   "id": "f04c5cbe",
   "metadata": {},
   "outputs": [],
   "source": [
    "def check_variable(var):\n",
    "    if isinstance(var,list):\n",
    "        print(f\"It's a list\")\n",
    "    elif isinstance(var,tuple):\n",
    "        print(f\"It's a tuple\")\n",
    "    elif isinstance(var,set):\n",
    "        print(f\"It's a set\")\n",
    "    else:\n",
    "        print(f\"It's neither a list , tuple or set\")"
   ]
  },
  {
   "cell_type": "code",
   "execution_count": 79,
   "id": "22758bea",
   "metadata": {},
   "outputs": [
    {
     "name": "stdout",
     "output_type": "stream",
     "text": [
      "It's a list\n"
     ]
    }
   ],
   "source": [
    "check_variable([1,5,8,7])"
   ]
  },
  {
   "cell_type": "markdown",
   "id": "7bcca9cd",
   "metadata": {},
   "source": [
    "#### 93) Write a Python function to check whether a number is divisible by another number. Accept two integer values from the user."
   ]
  },
  {
   "cell_type": "code",
   "execution_count": 84,
   "id": "fb0738f3",
   "metadata": {},
   "outputs": [],
   "source": [
    "def div_by_num(x,y):\n",
    "    is_divisible = lambda x ,y : x%y == 0\n",
    "    if is_divisible (x,y):\n",
    "        print(f'Number: {x} is divisible by: {y}')\n",
    "    else:\n",
    "        print(f'Number: {x} is not divisible by: {y}')"
   ]
  },
  {
   "cell_type": "code",
   "execution_count": 85,
   "id": "1a31f83f",
   "metadata": {},
   "outputs": [
    {
     "name": "stdout",
     "output_type": "stream",
     "text": [
      "Number: 251024 is not divisible by: 6\n"
     ]
    }
   ],
   "source": [
    "div_by_num(251024,6)"
   ]
  },
  {
   "cell_type": "markdown",
   "id": "092a7db3",
   "metadata": {},
   "source": [
    "#### 94)  Write a Python function to find the maximum and minimum numbers from a sequence of numbers.\n",
    "Note: Do not use built-in functions."
   ]
  },
  {
   "cell_type": "code",
   "execution_count": 96,
   "id": "642f0822",
   "metadata": {},
   "outputs": [],
   "source": [
    "def min_max_num(l):\n",
    "    max_no = l[0]\n",
    "    min_no = l[0]\n",
    "\n",
    "    if not l:\n",
    "        return none , none\n",
    "    for i in l:\n",
    "        if i > max_no:\n",
    "            max_no = i\n",
    "        if i < min_no:\n",
    "            min_no = i\n",
    "    print(max_no , min_no)"
   ]
  },
  {
   "cell_type": "code",
   "execution_count": 98,
   "id": "ded27722",
   "metadata": {},
   "outputs": [
    {
     "name": "stdout",
     "output_type": "stream",
     "text": [
      "90 0.5\n"
     ]
    }
   ],
   "source": [
    "min_max_num([52,8,90,36,1,.5])"
   ]
  },
  {
   "cell_type": "markdown",
   "id": "f4c77766",
   "metadata": {},
   "source": [
    "#### 95) Write a Python function that takes a positive integer and returns the sum of the cube of all positive integers smaller than the specified number."
   ]
  },
  {
   "cell_type": "code",
   "execution_count": 99,
   "id": "6b24b1d2",
   "metadata": {},
   "outputs": [],
   "source": [
    "def sum_positive_val(l):\n",
    "    l1=[]\n",
    "    for i in l:\n",
    "        if i >0:\n",
    "            l1.append(i**3)\n",
    "    print(sum(l1))"
   ]
  },
  {
   "cell_type": "code",
   "execution_count": 100,
   "id": "d3ab0844",
   "metadata": {},
   "outputs": [
    {
     "name": "stdout",
     "output_type": "stream",
     "text": [
      "36\n"
     ]
    }
   ],
   "source": [
    "sum_positive_val([2,3,-2,1])"
   ]
  },
  {
   "cell_type": "markdown",
   "id": "8444f4a2",
   "metadata": {},
   "source": [
    "#### 96) Write a Python function to check whether a distinct pair of numbers whose product is odd is present in a sequence of integer values."
   ]
  },
  {
   "cell_type": "code",
   "execution_count": 125,
   "id": "e0322896",
   "metadata": {},
   "outputs": [],
   "source": [
    "def check_odd_multiple(l):\n",
    "    for i in range(len(l)):\n",
    "        for j in range(i+1, len(l)):\n",
    "            if (l[i] * l[j]) % 2 == 1:\n",
    "                print('Odd pair is present in the list')\n",
    "                return\n",
    "    print('Odd pair is not present in the list')"
   ]
  },
  {
   "cell_type": "code",
   "execution_count": 126,
   "id": "a3d9d629",
   "metadata": {},
   "outputs": [
    {
     "name": "stdout",
     "output_type": "stream",
     "text": [
      "Odd pair is not present in the list\n"
     ]
    }
   ],
   "source": [
    "check_odd_multiple([2,4,6])"
   ]
  },
  {
   "cell_type": "markdown",
   "id": "bdffb24a",
   "metadata": {},
   "source": [
    "#### 97) Python function to find Multiplication of a given number:"
   ]
  },
  {
   "cell_type": "code",
   "execution_count": 127,
   "id": "396ee2ef",
   "metadata": {},
   "outputs": [],
   "source": [
    "def multiplication(n):\n",
    "    for i in range(11):\n",
    "        print(f\"{i} x {n} = {i*n}\")"
   ]
  },
  {
   "cell_type": "code",
   "execution_count": 128,
   "id": "e46cde1e",
   "metadata": {},
   "outputs": [
    {
     "name": "stdout",
     "output_type": "stream",
     "text": [
      "0 x 6 = 0\n",
      "1 x 6 = 6\n",
      "2 x 6 = 12\n",
      "3 x 6 = 18\n",
      "4 x 6 = 24\n",
      "5 x 6 = 30\n",
      "6 x 6 = 36\n",
      "7 x 6 = 42\n",
      "8 x 6 = 48\n",
      "9 x 6 = 54\n",
      "10 x 6 = 60\n"
     ]
    }
   ],
   "source": [
    "multiplication(6)"
   ]
  },
  {
   "cell_type": "markdown",
   "id": "f114792f",
   "metadata": {},
   "source": [
    "#### 98) FInd factorical of a given no:"
   ]
  },
  {
   "cell_type": "code",
   "execution_count": 143,
   "id": "52e7fc51",
   "metadata": {},
   "outputs": [],
   "source": [
    "def factorial(n):\n",
    "    mul = 1\n",
    "    if n== 0:\n",
    "        print(f'Factorial of {n} is 1')\n",
    "    elif n <0:\n",
    "        print('Factorial of negative no is not defined')\n",
    "    else:\n",
    "        for i in range(1,n+1):\n",
    "            mul = i* mul\n",
    "        return mul"
   ]
  },
  {
   "cell_type": "code",
   "execution_count": 145,
   "id": "3dcd0bb9",
   "metadata": {},
   "outputs": [
    {
     "data": {
      "text/plain": [
       "120"
      ]
     },
     "execution_count": 145,
     "metadata": {},
     "output_type": "execute_result"
    }
   ],
   "source": [
    "factorial(5)"
   ]
  },
  {
   "cell_type": "markdown",
   "id": "6b129dc4",
   "metadata": {},
   "source": [
    "#### 99) Python code to print df with 3 columns and 100 rows with random values"
   ]
  },
  {
   "cell_type": "code",
   "execution_count": 14,
   "id": "b215d13d",
   "metadata": {},
   "outputs": [
    {
     "data": {
      "text/html": [
       "<div>\n",
       "<style scoped>\n",
       "    .dataframe tbody tr th:only-of-type {\n",
       "        vertical-align: middle;\n",
       "    }\n",
       "\n",
       "    .dataframe tbody tr th {\n",
       "        vertical-align: top;\n",
       "    }\n",
       "\n",
       "    .dataframe thead th {\n",
       "        text-align: right;\n",
       "    }\n",
       "</style>\n",
       "<table border=\"1\" class=\"dataframe\">\n",
       "  <thead>\n",
       "    <tr style=\"text-align: right;\">\n",
       "      <th></th>\n",
       "      <th>Weight</th>\n",
       "      <th>Height</th>\n",
       "      <th>Age</th>\n",
       "    </tr>\n",
       "  </thead>\n",
       "  <tbody>\n",
       "    <tr>\n",
       "      <th>0</th>\n",
       "      <td>60.205469</td>\n",
       "      <td>180.050682</td>\n",
       "      <td>74.935198</td>\n",
       "    </tr>\n",
       "    <tr>\n",
       "      <th>1</th>\n",
       "      <td>100.927797</td>\n",
       "      <td>99.223829</td>\n",
       "      <td>43.508375</td>\n",
       "    </tr>\n",
       "    <tr>\n",
       "      <th>2</th>\n",
       "      <td>79.723279</td>\n",
       "      <td>134.558463</td>\n",
       "      <td>21.219084</td>\n",
       "    </tr>\n",
       "    <tr>\n",
       "      <th>3</th>\n",
       "      <td>23.313922</td>\n",
       "      <td>145.981867</td>\n",
       "      <td>79.727850</td>\n",
       "    </tr>\n",
       "    <tr>\n",
       "      <th>4</th>\n",
       "      <td>70.296599</td>\n",
       "      <td>115.945610</td>\n",
       "      <td>58.430516</td>\n",
       "    </tr>\n",
       "    <tr>\n",
       "      <th>5</th>\n",
       "      <td>96.618329</td>\n",
       "      <td>114.184318</td>\n",
       "      <td>77.701256</td>\n",
       "    </tr>\n",
       "    <tr>\n",
       "      <th>6</th>\n",
       "      <td>40.362531</td>\n",
       "      <td>165.168943</td>\n",
       "      <td>66.297763</td>\n",
       "    </tr>\n",
       "    <tr>\n",
       "      <th>7</th>\n",
       "      <td>13.097820</td>\n",
       "      <td>186.511746</td>\n",
       "      <td>64.037084</td>\n",
       "    </tr>\n",
       "    <tr>\n",
       "      <th>8</th>\n",
       "      <td>12.355760</td>\n",
       "      <td>96.173880</td>\n",
       "      <td>13.089846</td>\n",
       "    </tr>\n",
       "    <tr>\n",
       "      <th>9</th>\n",
       "      <td>11.569313</td>\n",
       "      <td>174.119897</td>\n",
       "      <td>76.181493</td>\n",
       "    </tr>\n",
       "  </tbody>\n",
       "</table>\n",
       "</div>"
      ],
      "text/plain": [
       "       Weight      Height        Age\n",
       "0   60.205469  180.050682  74.935198\n",
       "1  100.927797   99.223829  43.508375\n",
       "2   79.723279  134.558463  21.219084\n",
       "3   23.313922  145.981867  79.727850\n",
       "4   70.296599  115.945610  58.430516\n",
       "5   96.618329  114.184318  77.701256\n",
       "6   40.362531  165.168943  66.297763\n",
       "7   13.097820  186.511746  64.037084\n",
       "8   12.355760   96.173880  13.089846\n",
       "9   11.569313  174.119897  76.181493"
      ]
     },
     "execution_count": 14,
     "metadata": {},
     "output_type": "execute_result"
    }
   ],
   "source": [
    "import pandas as pd\n",
    "import random \n",
    "\n",
    "Data = {'Weight':[random.uniform(10,110) for _ in range(10)],\n",
    "             'Height':[random.uniform(80,190) for _ in range(10)],\n",
    "             'Age' :[random.uniform(7,90) for _ in range(10)] }\n",
    "\n",
    "df = pd.DataFrame(Data)\n",
    "df"
   ]
  },
  {
   "cell_type": "markdown",
   "id": "3cf6008a",
   "metadata": {},
   "source": [
    "#### 100) Python code to form dataframe using Numpy."
   ]
  },
  {
   "cell_type": "code",
   "execution_count": 19,
   "id": "7fd383c1",
   "metadata": {},
   "outputs": [
    {
     "data": {
      "text/html": [
       "<div>\n",
       "<style scoped>\n",
       "    .dataframe tbody tr th:only-of-type {\n",
       "        vertical-align: middle;\n",
       "    }\n",
       "\n",
       "    .dataframe tbody tr th {\n",
       "        vertical-align: top;\n",
       "    }\n",
       "\n",
       "    .dataframe thead th {\n",
       "        text-align: right;\n",
       "    }\n",
       "</style>\n",
       "<table border=\"1\" class=\"dataframe\">\n",
       "  <thead>\n",
       "    <tr style=\"text-align: right;\">\n",
       "      <th></th>\n",
       "      <th>X</th>\n",
       "      <th>Y</th>\n",
       "      <th>Z</th>\n",
       "    </tr>\n",
       "  </thead>\n",
       "  <tbody>\n",
       "    <tr>\n",
       "      <th>0</th>\n",
       "      <td>0.648468</td>\n",
       "      <td>0.349066</td>\n",
       "      <td>0.827076</td>\n",
       "    </tr>\n",
       "    <tr>\n",
       "      <th>1</th>\n",
       "      <td>0.773368</td>\n",
       "      <td>0.765912</td>\n",
       "      <td>0.341682</td>\n",
       "    </tr>\n",
       "    <tr>\n",
       "      <th>2</th>\n",
       "      <td>0.141890</td>\n",
       "      <td>0.580829</td>\n",
       "      <td>0.140078</td>\n",
       "    </tr>\n",
       "    <tr>\n",
       "      <th>3</th>\n",
       "      <td>0.951796</td>\n",
       "      <td>0.587518</td>\n",
       "      <td>0.588131</td>\n",
       "    </tr>\n",
       "    <tr>\n",
       "      <th>4</th>\n",
       "      <td>0.213641</td>\n",
       "      <td>0.000161</td>\n",
       "      <td>0.470747</td>\n",
       "    </tr>\n",
       "    <tr>\n",
       "      <th>5</th>\n",
       "      <td>0.012738</td>\n",
       "      <td>0.993584</td>\n",
       "      <td>0.199247</td>\n",
       "    </tr>\n",
       "    <tr>\n",
       "      <th>6</th>\n",
       "      <td>0.269567</td>\n",
       "      <td>0.974051</td>\n",
       "      <td>0.668063</td>\n",
       "    </tr>\n",
       "    <tr>\n",
       "      <th>7</th>\n",
       "      <td>0.313975</td>\n",
       "      <td>0.486172</td>\n",
       "      <td>0.166767</td>\n",
       "    </tr>\n",
       "    <tr>\n",
       "      <th>8</th>\n",
       "      <td>0.357293</td>\n",
       "      <td>0.207533</td>\n",
       "      <td>0.261315</td>\n",
       "    </tr>\n",
       "    <tr>\n",
       "      <th>9</th>\n",
       "      <td>0.487507</td>\n",
       "      <td>0.363418</td>\n",
       "      <td>0.462461</td>\n",
       "    </tr>\n",
       "  </tbody>\n",
       "</table>\n",
       "</div>"
      ],
      "text/plain": [
       "          X         Y         Z\n",
       "0  0.648468  0.349066  0.827076\n",
       "1  0.773368  0.765912  0.341682\n",
       "2  0.141890  0.580829  0.140078\n",
       "3  0.951796  0.587518  0.588131\n",
       "4  0.213641  0.000161  0.470747\n",
       "5  0.012738  0.993584  0.199247\n",
       "6  0.269567  0.974051  0.668063\n",
       "7  0.313975  0.486172  0.166767\n",
       "8  0.357293  0.207533  0.261315\n",
       "9  0.487507  0.363418  0.462461"
      ]
     },
     "execution_count": 19,
     "metadata": {},
     "output_type": "execute_result"
    }
   ],
   "source": [
    "import pandas as pd\n",
    "import numpy as np\n",
    "\n",
    "df = pd.DataFrame(np.random.rand(10,3),columns = ['X','Y','Z'])\n",
    "df"
   ]
  },
  {
   "cell_type": "code",
   "execution_count": null,
   "id": "49a7219d",
   "metadata": {},
   "outputs": [],
   "source": []
  }
 ],
 "metadata": {
  "kernelspec": {
   "display_name": "Python 3 (ipykernel)",
   "language": "python",
   "name": "python3"
  },
  "language_info": {
   "codemirror_mode": {
    "name": "ipython",
    "version": 3
   },
   "file_extension": ".py",
   "mimetype": "text/x-python",
   "name": "python",
   "nbconvert_exporter": "python",
   "pygments_lexer": "ipython3",
   "version": "3.11.5"
  }
 },
 "nbformat": 4,
 "nbformat_minor": 5
}
